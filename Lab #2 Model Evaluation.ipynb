{
 "cells": [
  {
   "cell_type": "markdown",
   "metadata": {
    "deletable": true,
    "editable": true
   },
   "source": [
    "# Lab2: Binary classification and model evaluation\n",
    "---\n",
    "\n",
    "Result of that lab is a **report** in ipynb format. This course is not about coding, so the less code you write the better. It is easier to find mistakes and expand or modify experiments.\n",
    "![E=(mc)^2 : errors = (more code)^2](https://pp.userapi.com/c638722/v638722272/1f4b3/J0mqkFTF0IY.jpg)\n",
    "\n",
    "Try to write you report as interesting story by consequently answer questions from the task. \n",
    "\n",
    "**($\\star$)** questions add no extra points to assessment, but boost your skills and karma a little bit  "
   ]
  },
  {
   "cell_type": "markdown",
   "metadata": {
    "deletable": true,
    "editable": true
   },
   "source": [
    "## 1. Spam classification\n",
    "\n",
    "Let's try to build machine learning models to divide spam from non-spam. \n",
    "\n",
    "Dataset: [UCI](https://archive.ics.uci.edu/ml/datasets.html)\n",
    "\n",
    "Each object in dataset is a letter with features based on text, spam is a positive example, normal letter - negative.\n",
    "\n",
    "#### Task\n",
    "   - Download dataset [Spambase](https://archive.ics.uci.edu/ml/datasets/Spambase) . (Code is provided bellow)\n",
    "   - How many letters in a dataset ?\n",
    "   - Which portion of them is bad (spam) ?\n",
    "   - How you can group letters' features ?"
   ]
  },
  {
   "cell_type": "markdown",
   "metadata": {
    "deletable": true,
    "editable": true
   },
   "source": [
    "## 2. Classifier training and  it's evaluation\n",
    "\n",
    "We want our model to generalize well. That means to predict class on the data that we did not see during training phase.\n",
    "In order to achive this model should be trained and evaluated on independent sets of examples. Usually, we divide our dataset to two subsets: `train` and `test`. (sometimes we need to split on 3 sets `train`, `validation`, `test`). How to split the data is a compromise: bigger `train` gives you more information and you can build <font color='red'>_better_</font>  algorithms, on the other hand more control examples from `test` would give you less noisy estimate of model quality. \n",
    "\n",
    "For model evaluation you will analyse [confusion matrix](http://en.wikipedia.org/wiki/Confusion_matrix): Each column of the matrix represents the instances in a predicted class while each row represents the instances in an actual class. \n",
    "\n",
    "![Confusion matrix](http://rasbt.github.io/mlxtend/user_guide/evaluate/confusion_matrix_files/confusion_matrix_1.png)\n",
    "\n",
    "Diagonal consists of correctly classified positive (True positive - TP) and negative (TN) examples. There are two types of errors. False Positive (FP) — type I erros (false activation, good letter went to spam), False Negative (FN) — type II errors (did not filter span). <font color='red'>**Errors of type I and II could have different cost.**</font>\n",
    "\n",
    "<img src=\"https://pp.userapi.com/c837427/v837427272/130f4/PJX8E_FvkG8.jpg\" alt=\"Types of errors\" style=\"width: 300px;\"/>\n",
    "\n",
    "For binary classification we have following quality metrics:\n",
    "  - Accuracy = (TP + TN) / (TP + TN + FP + FN)  — _fraction of correct predictions_\n",
    "  - Precision = TP / (TP + FP)  — _accuracy, fraction of real spam in the letters classified as spam_\n",
    "  - Recall = TP / (TP + FN)  — _completeness, fraction of filtered spam_\n",
    "  - F1 = 2TP / (2TP + FP + FN)  — _harmonic mean of precision and recall_\n",
    "  \n",
    "More information you can find here: [Precision and Recall](http://en.wikipedia.org/wiki/Precision_and_recall).\n",
    "\n",
    "#### Task \n",
    "   - Split dataset into to disjoint subsets: `train` - first 3000 examples (≈65%), `test` - all others\n",
    "   - Train decesion tree with `train`. Classify examples from `test`. Calculate classification quality metrics, described above: Accuracy, Precision, Recall, F1.  [Recommended parameters: split criteria - gini, max_depth: 7]\n",
    "   - Which drawbacks does evaluation on this `test` have? How you can make evalution more informative?\n",
    "   - Repeat experiment with dataset shuffled before `split`.\n",
    "   - Which features are the most informative? Use feature importance from DecisionTreeClassifier.\n",
    "   - What you can say about quality of the best constant model (constant model always predicts one class)\n",
    "   - Train KNN model and evaluate it on `test`. [ Recommended parameters: K=10, euclidian metric ]\n",
    "   - Train KNN for rescaled features. Evaluate quality of the model on `test`. Does that feature transformation increased given metrics for KNN? Repeat experiment for DecisionTree. Why rescaling has no effect on the quality of decision tree?\n",
    "   - Compare all models by all metrics.\n",
    "   - ($\\star$) To find better `train_test_split` you can conduct following experiment: grid search split proportion, for every threshold generate big number of splittings and compute error (according to chosen metric). Then plot dependence of error on split threshold. Choose threshold that gives least variation of the error. Choose metric and plot error standard deviation as function of split threshold. \n",
    "   \n",
    "  Rescaling methods:\n",
    "  - $x_{new} = \\frac{x - \\mu}{\\sigma}$, $\\mu, \\sigma$ — mean, and standard deviation\n",
    "  - $x_{new} = \\frac{x - x_{min}}{x_{max} - x_{min}}$, $[x_{min}, x_{max}]$ — minimal interval of features' values\n",
    "  \n",
    "  As a result of this task you should get following models and compare them between each other: \n",
    "  1. Constant model\n",
    "  2. Decision tree\n",
    "  3. KNN\n",
    "  4. KNN with rescaling"
   ]
  },
  {
   "cell_type": "markdown",
   "metadata": {
    "deletable": true,
    "editable": true
   },
   "source": [
    "## 3. Classification threshold selection\n",
    "\n",
    "Many classification models give estimation of  belonging to the class  $\\tilde{y}(x) \\in R$. Then decision about the class is made by comparing that estimation to some threshold:\n",
    "\n",
    "$y(x) = +1$,  if $\\tilde{y}(x) \\geq \\theta$, $y(x) = -1$, if $\\tilde{y}(x) < \\theta$\n",
    "\n",
    "Confusion matrix and all derivatives (Accuracy, Precision, Recall, etc.) depend on $\\theta$:\n",
    "\n",
    "In order to show the variation of metrics from threshold, you can draw coordinate plane with axis as metrics and the shape of the figure will show you quality of the model.  \n",
    "![ROC-curve construction principle and threshold](https://upload.wikimedia.org/wikipedia/commons/8/8c/Receiver_Operating_Characteristic.png)\n",
    "\n",
    "Most popular curve from such class is ROC-curve (TP-vs-FP plane) and Precision/Recall curves. ROC-curve stands for [Receiver Operating Characteristic](en.wikipedia.org/wiki/Receiver_operating_characteristic).\n",
    "![ROC-curves examples](http://arogozhnikov.github.io/images/roc_curve.gif)\n",
    "\n",
    "[interactive example](http://arogozhnikov.github.io/2015/10/05/roc-curve.html)\n",
    "\n",
    "In the case, if you need to compare quality of classifier without assumptions about threshold, you can use summary statistics or integral metrics based on ROC curve. For example AUC-ROC (**A**rea **U**nder RO**C**) - area under the ROC curve of classifier. AUC-ROC of ideal classifier is 1. Ideal **random** classifier has AUC-ROC about 0.5.\n",
    "\n",
    "\n",
    "#### Task\n",
    "  - Whick classifier has AUC-ROC near 0?\n",
    "  - Is it correct, that classifier from previous part #2 to identify class compare some estimatino with threshold? What are those estimations? What thresholds were chosen?\n",
    "  - For all models from previous task:\n",
    "      - Draw ROC and Precision/Recall curves on the same coordinate plane with different colors. Add legend: which curve corresponds to which classifier.\n",
    "      - Compare AUC-ROC.\n",
    "  - What maximal Recall of spam classification can models achive if you have strict constraint on accuracy: it should not be below 90%?\n",
    "  - ($\\star$) Mark classifiers builded in the previous part with points of different color and shape on the Precision/Recall plane. Add legend: which points correspond to which model. Show isoline of F1 metric (where F1 metric has the same value).\n",
    "  - ($\\star$) Suggest exact effective algorithm to compute AUC-ROC metric with complexity $O(n \\log n)$, where $n$ - number of test examples. "
   ]
  },
  {
   "cell_type": "markdown",
   "metadata": {
    "deletable": true,
    "editable": true
   },
   "source": [
    "## 4. Cross-validation and parameter selection\n",
    "\n",
    "Each model of machine learning has many structural parameters and parameters of learning: number of neighbours, length function in KNN, max tree depth, mininal number of objects in leafs and so on. There is no universal set of parameters which would be optimal for all given tasks. For every new task you should select other set of parameters.\n",
    "\n",
    "For model's parameters' optimization researchers usually use _grid search_ : pick several values for every parameter, then evaluate every combination of parameters, and choose the best set from the point of optimized metric.\n",
    "\n",
    "If you try a lot of models, it might appear that the best model on `train` did not perserve it's quality on `test` set. We can conclude that in this case model was _overfitted_ to given `train`. \n",
    "\n",
    "To get rid of that problem we can split out dataset on 3 disjoint subsets: `train`, `validation` and `test`\n",
    "![Разбиение на train, validation и test](http://2.bp.blogspot.com/-jkEGMO5lb8A/VmIj1SWT8KI/AAAAAAAAAAs/XTUClFffcX4/s1600/Screen%2BShot%2B2015-12-04%2Bat%2B6.37.34%2BPM.png)\n",
    "\n",
    "`Validation` set is used to compare models when tuning hyperparameters of the model. `Test` is for final assessment of the models.\n",
    "\n",
    "There is more robust method of objective model comparison - [cross-validation](http://en.wikipedia.org/wiki/Cross-validation_(statistics)). \n",
    "There exist different types of that general scheme: \n",
    "   - Leave-One-Out\n",
    "   - K-Fold\n",
    "   - Repeated random sub-sampling\n",
    "\n",
    "Cross-validation is computationally expensive, especially if you do exhaustive grid search with big number of combinations. You should consider following trade-offs:\n",
    "   - you can take more sparse grid, considering less values for each parameter. But you can miss good combination then;\n",
    "   - you can use less partitions or folds, in that case the estimate of cross-validation score becomes more noisy and you have higher risk to make not optimal set of parameters, because of the randomness of partition;\n",
    "   - you can optimize parameters greedily (one by one, consequently), that strategy is not always optimal;\n",
    "   - use random sub-sampling of parameters instead of exhaustive search.\n",
    "   \n",
    "#### Task\n",
    "\n",
    "   - Choose cross-validation method, one from described above. Fixate cross-validation split of `train` set. You should cross-validate on `train` samples from previous tasks, `test` should stay independent. Pay attention: when comparing models, cross-validation split must not change.\n",
    "   - Choose one metric for optimization by grid search. _Example: AUC-ROC._\n",
    "   - Find optimal set of parameters for tree with grid search. Parameters for grid: split criterion, max depth, number of features for node, min number of objects in the leaf (of only some of offered parameters)\n",
    "   - Find optimal set of parameters for KNN using grid search. Parameters for grid: K, metric, weight scheme.\n",
    "   - ($\\star$) [Bootstrapping](https://en.wikipedia.org/wiki/Bootstrapping_(statistics)) -  any test or metric that relies on random sampling with replacement. Can you use different bootstrapping methods for training and evaluating your models?"
   ]
  },
  {
   "cell_type": "markdown",
   "metadata": {
    "deletable": true,
    "editable": true
   },
   "source": [
    "## Usefull functions of SciKit-Learn\n",
    "\n",
    "These functions will make compliting this lab a pleasure for you.\n",
    "\n",
    "- Module for quality evaluation and cross-validation [`sklearn.cross_validation`](http://scikit-learn.org/stable/modules/cross_validation.html):\n",
    "    - dataset split [`train_test_split()`](http://scikit-learn.org/stable/modules/generated/sklearn.cross_validation.train_test_split.html#sklearn.cross_validation.train_test_split)\n",
    "    - iterators for cross-validation splits [`LeaveOneOut`](http://scikit-learn.org/stable/modules/generated/sklearn.cross_validation.LeaveOneOut.html#sklearn.cross_validation.LeaveOneOut), [`KFold`](http://scikit-learn.org/stable/modules/generated/sklearn.cross_validation.KFold.html#sklearn.cross_validation.KFold), [`ShuffleSplit`](http://scikit-learn.org/stable/modules/generated/sklearn.cross_validation.ShuffleSplit.html#sklearn.cross_validation.ShuffleSplit)\n",
    "    - always use `random_state` parameter, it will make your experiments reproducible.\n",
    "- Module with metrics [`sklearn.metrics`](http://scikit-learn.org/stable/modules/classes.html#module-sklearn.metrics)\n",
    "  - [`accuracy_score(y_true, y_pred)`](http://scikit-learn.org/stable/modules/generated/sklearn.metrics.accuracy_score.html#sklearn.metrics.accuracy_score)\n",
    "  - [`precision_recall_fscore_support(y_true, y_pred)`](http://scikit-learn.org/stable/modules/generated/sklearn.metrics.precision_recall_fscore_support.html#sklearn.metrics.precision_recall_fscore_support)\n",
    "  - [`roc_curve(y_true, y_score)`](http://scikit-learn.org/stable/modules/generated/sklearn.metrics.roc_curve.html#sklearn.metrics.roc_curve)\n",
    "  - [`precision_recall_curve(y_true, y_score)`](http://scikit-learn.org/stable/modules/generated/sklearn.metrics.precision_recall_curve.html)\n",
    "  - [`roc_auc_score(y_true, y_score)`](http://scikit-learn.org/stable/modules/generated/sklearn.metrics.roc_auc_score.html#sklearn.metrics.roc_auc_score)\n",
    "- Module for data preprocessing [`sklearn.preprocessing`](http://scikit-learn.org/stable/modules/preprocessing.html)\n",
    "    - function for feature standartization [`scale(X)`](http://scikit-learn.org/stable/modules/generated/sklearn.preprocessing.scale.html#sklearn.preprocessing.scale)\n",
    "    - class that helps to map your features into [0-1] interval [`MinMaxScaler().fit_transform(X)`](http://scikit-learn.org/stable/modules/generated/sklearn.preprocessing.MinMaxScaler.html#sklearn.preprocessing.MinMaxScaler)\n",
    "- Module for grid search [`sklearn.grid_search`](http://scikit-learn.org/stable/modules/classes.html#module-sklearn.grid_search)\n",
    "    - Class [`GridSearchCV`](http://scikit-learn.org/stable/modules/generated/sklearn.grid_search.GridSearchCV.html#sklearn.grid_search.GridSearchCV) - implements exhaustive search on a given grid\n",
    "    - Class [`RandomizedSearchCV`](http://scikit-learn.org/stable/modules/generated/sklearn.grid_search.RandomizedSearchCV.html#sklearn.grid_search.RandomizedSearchCV) - implements random search of parameters\n",
    "- Class for constant classifier  [`DummyClassifier(strategy='constant', constant=0)`](http://scikit-learn.org/stable/modules/generated/sklearn.dummy.DummyClassifier.html#sklearn.dummy.DummyClassifier)\n",
    "\n",
    "  \n",
    "### Manual, docs and examples\n",
    "\n",
    "- [Model evaluation](http://scikit-learn.org/stable/modules/model_evaluation.html)\n",
    "- [Parameter optimization with cross-val grid search](http://scikit-learn.org/stable/auto_examples/grid_search_digits.html)\n",
    "- [ROC-curves](http://scikit-learn.org/stable/auto_examples/plot_roc.html), [Precision-Recall кривые](http://scikit-learn.org/stable/auto_examples/plot_precision_recall.html)\n",
    "- [Feature importance in decesion trees](http://scikit-learn.org/stable/auto_examples/ensemble/plot_forest_importances.html#example-ensemble-plot-forest-importances-py)"
   ]
  },
  {
   "cell_type": "markdown",
   "metadata": {
    "deletable": true,
    "editable": true
   },
   "source": [
    "# Examples"
   ]
  },
  {
   "cell_type": "markdown",
   "metadata": {
    "deletable": true,
    "editable": true
   },
   "source": [
    "Use this jupyter notebook **`magic`** to be able to plot figures directly in notebook.\n",
    "Docs: [`Maplotlib`](http://matplotlib.org/) and [`pylab`](http://wiki.scipy.org/PyLab)."
   ]
  },
  {
   "cell_type": "code",
   "execution_count": 1,
   "metadata": {
    "collapsed": false,
    "deletable": true,
    "editable": true
   },
   "outputs": [
    {
     "name": "stdout",
     "output_type": "stream",
     "text": [
      "Populating the interactive namespace from numpy and matplotlib\n"
     ]
    }
   ],
   "source": [
    "%pylab inline"
   ]
  },
  {
   "cell_type": "markdown",
   "metadata": {
    "deletable": true,
    "editable": true
   },
   "source": [
    "## Spambase dataset downloading "
   ]
  },
  {
   "cell_type": "code",
   "execution_count": 2,
   "metadata": {
    "collapsed": false,
    "deletable": true,
    "editable": true
   },
   "outputs": [
    {
     "data": {
      "text/html": [
       "<div>\n",
       "<table border=\"1\" class=\"dataframe\">\n",
       "  <thead>\n",
       "    <tr style=\"text-align: right;\">\n",
       "      <th></th>\n",
       "      <th>word_freq_make</th>\n",
       "      <th>word_freq_address</th>\n",
       "      <th>word_freq_all</th>\n",
       "      <th>word_freq_3d</th>\n",
       "      <th>word_freq_our</th>\n",
       "      <th>word_freq_over</th>\n",
       "      <th>word_freq_remove</th>\n",
       "      <th>word_freq_internet</th>\n",
       "      <th>word_freq_order</th>\n",
       "      <th>word_freq_mail</th>\n",
       "      <th>...</th>\n",
       "      <th>char_freq_;</th>\n",
       "      <th>char_freq_(</th>\n",
       "      <th>char_freq_[</th>\n",
       "      <th>char_freq_!</th>\n",
       "      <th>char_freq_$</th>\n",
       "      <th>char_freq_#</th>\n",
       "      <th>capital_run_length_average</th>\n",
       "      <th>capital_run_length_longest</th>\n",
       "      <th>capital_run_length_total</th>\n",
       "      <th>spam</th>\n",
       "    </tr>\n",
       "  </thead>\n",
       "  <tbody>\n",
       "    <tr>\n",
       "      <th>0</th>\n",
       "      <td>0.00</td>\n",
       "      <td>0.64</td>\n",
       "      <td>0.64</td>\n",
       "      <td>0.0</td>\n",
       "      <td>0.32</td>\n",
       "      <td>0.00</td>\n",
       "      <td>0.00</td>\n",
       "      <td>0.00</td>\n",
       "      <td>0.00</td>\n",
       "      <td>0.00</td>\n",
       "      <td>...</td>\n",
       "      <td>0.00</td>\n",
       "      <td>0.000</td>\n",
       "      <td>0.0</td>\n",
       "      <td>0.778</td>\n",
       "      <td>0.000</td>\n",
       "      <td>0.000</td>\n",
       "      <td>3.756</td>\n",
       "      <td>61</td>\n",
       "      <td>278</td>\n",
       "      <td>1</td>\n",
       "    </tr>\n",
       "    <tr>\n",
       "      <th>1</th>\n",
       "      <td>0.21</td>\n",
       "      <td>0.28</td>\n",
       "      <td>0.50</td>\n",
       "      <td>0.0</td>\n",
       "      <td>0.14</td>\n",
       "      <td>0.28</td>\n",
       "      <td>0.21</td>\n",
       "      <td>0.07</td>\n",
       "      <td>0.00</td>\n",
       "      <td>0.94</td>\n",
       "      <td>...</td>\n",
       "      <td>0.00</td>\n",
       "      <td>0.132</td>\n",
       "      <td>0.0</td>\n",
       "      <td>0.372</td>\n",
       "      <td>0.180</td>\n",
       "      <td>0.048</td>\n",
       "      <td>5.114</td>\n",
       "      <td>101</td>\n",
       "      <td>1028</td>\n",
       "      <td>1</td>\n",
       "    </tr>\n",
       "    <tr>\n",
       "      <th>2</th>\n",
       "      <td>0.06</td>\n",
       "      <td>0.00</td>\n",
       "      <td>0.71</td>\n",
       "      <td>0.0</td>\n",
       "      <td>1.23</td>\n",
       "      <td>0.19</td>\n",
       "      <td>0.19</td>\n",
       "      <td>0.12</td>\n",
       "      <td>0.64</td>\n",
       "      <td>0.25</td>\n",
       "      <td>...</td>\n",
       "      <td>0.01</td>\n",
       "      <td>0.143</td>\n",
       "      <td>0.0</td>\n",
       "      <td>0.276</td>\n",
       "      <td>0.184</td>\n",
       "      <td>0.010</td>\n",
       "      <td>9.821</td>\n",
       "      <td>485</td>\n",
       "      <td>2259</td>\n",
       "      <td>1</td>\n",
       "    </tr>\n",
       "    <tr>\n",
       "      <th>3</th>\n",
       "      <td>0.00</td>\n",
       "      <td>0.00</td>\n",
       "      <td>0.00</td>\n",
       "      <td>0.0</td>\n",
       "      <td>0.63</td>\n",
       "      <td>0.00</td>\n",
       "      <td>0.31</td>\n",
       "      <td>0.63</td>\n",
       "      <td>0.31</td>\n",
       "      <td>0.63</td>\n",
       "      <td>...</td>\n",
       "      <td>0.00</td>\n",
       "      <td>0.137</td>\n",
       "      <td>0.0</td>\n",
       "      <td>0.137</td>\n",
       "      <td>0.000</td>\n",
       "      <td>0.000</td>\n",
       "      <td>3.537</td>\n",
       "      <td>40</td>\n",
       "      <td>191</td>\n",
       "      <td>1</td>\n",
       "    </tr>\n",
       "    <tr>\n",
       "      <th>4</th>\n",
       "      <td>0.00</td>\n",
       "      <td>0.00</td>\n",
       "      <td>0.00</td>\n",
       "      <td>0.0</td>\n",
       "      <td>0.63</td>\n",
       "      <td>0.00</td>\n",
       "      <td>0.31</td>\n",
       "      <td>0.63</td>\n",
       "      <td>0.31</td>\n",
       "      <td>0.63</td>\n",
       "      <td>...</td>\n",
       "      <td>0.00</td>\n",
       "      <td>0.135</td>\n",
       "      <td>0.0</td>\n",
       "      <td>0.135</td>\n",
       "      <td>0.000</td>\n",
       "      <td>0.000</td>\n",
       "      <td>3.537</td>\n",
       "      <td>40</td>\n",
       "      <td>191</td>\n",
       "      <td>1</td>\n",
       "    </tr>\n",
       "  </tbody>\n",
       "</table>\n",
       "<p>5 rows × 58 columns</p>\n",
       "</div>"
      ],
      "text/plain": [
       "   word_freq_make  word_freq_address  word_freq_all  word_freq_3d  \\\n",
       "0            0.00               0.64           0.64           0.0   \n",
       "1            0.21               0.28           0.50           0.0   \n",
       "2            0.06               0.00           0.71           0.0   \n",
       "3            0.00               0.00           0.00           0.0   \n",
       "4            0.00               0.00           0.00           0.0   \n",
       "\n",
       "   word_freq_our  word_freq_over  word_freq_remove  word_freq_internet  \\\n",
       "0           0.32            0.00              0.00                0.00   \n",
       "1           0.14            0.28              0.21                0.07   \n",
       "2           1.23            0.19              0.19                0.12   \n",
       "3           0.63            0.00              0.31                0.63   \n",
       "4           0.63            0.00              0.31                0.63   \n",
       "\n",
       "   word_freq_order  word_freq_mail  ...   char_freq_;  char_freq_(  \\\n",
       "0             0.00            0.00  ...          0.00        0.000   \n",
       "1             0.00            0.94  ...          0.00        0.132   \n",
       "2             0.64            0.25  ...          0.01        0.143   \n",
       "3             0.31            0.63  ...          0.00        0.137   \n",
       "4             0.31            0.63  ...          0.00        0.135   \n",
       "\n",
       "   char_freq_[  char_freq_!  char_freq_$  char_freq_#  \\\n",
       "0          0.0        0.778        0.000        0.000   \n",
       "1          0.0        0.372        0.180        0.048   \n",
       "2          0.0        0.276        0.184        0.010   \n",
       "3          0.0        0.137        0.000        0.000   \n",
       "4          0.0        0.135        0.000        0.000   \n",
       "\n",
       "   capital_run_length_average  capital_run_length_longest  \\\n",
       "0                       3.756                          61   \n",
       "1                       5.114                         101   \n",
       "2                       9.821                         485   \n",
       "3                       3.537                          40   \n",
       "4                       3.537                          40   \n",
       "\n",
       "   capital_run_length_total  spam  \n",
       "0                       278     1  \n",
       "1                      1028     1  \n",
       "2                      2259     1  \n",
       "3                       191     1  \n",
       "4                       191     1  \n",
       "\n",
       "[5 rows x 58 columns]"
      ]
     },
     "execution_count": 2,
     "metadata": {},
     "output_type": "execute_result"
    }
   ],
   "source": [
    "import pandas\n",
    "import urllib2\n",
    "\n",
    "SPAMBASE_NAMES_URL = 'https://archive.ics.uci.edu/ml/machine-learning-databases/spambase/spambase.names'\n",
    "SPAMBASE_DATA_URL = 'https://archive.ics.uci.edu/ml/machine-learning-databases/spambase/spambase.data'\n",
    "\n",
    "feature_names = [\n",
    "    line.strip().split(':')[0] \n",
    "    for line in urllib2.urlopen(SPAMBASE_NAMES_URL).readlines()[33:]\n",
    "]\n",
    "spam_data = pandas.read_csv(SPAMBASE_DATA_URL, header=None, names=(feature_names + ['spam']))\n",
    " \n",
    "X, y = spam_data.ix[:, :-1].values, spam_data.ix[:, -1].values\n",
    " \n",
    "spam_data.head()"
   ]
  },
  {
   "cell_type": "markdown",
   "metadata": {
    "deletable": true,
    "editable": true
   },
   "source": [
    "## DecisionTree training"
   ]
  },
  {
   "cell_type": "code",
   "execution_count": 3,
   "metadata": {
    "collapsed": false,
    "deletable": true,
    "editable": true
   },
   "outputs": [],
   "source": [
    "from sklearn.datasets import load_iris\n",
    "from sklearn.tree import DecisionTreeClassifier\n",
    "\n",
    "iris_data = load_iris()\n",
    "X, y = iris_data.data, iris_data.target\n",
    "\n",
    "clf = DecisionTreeClassifier(max_depth=3).fit(X, y)\n",
    "\n",
    "y_pred = clf.predict(X)"
   ]
  },
  {
   "cell_type": "markdown",
   "metadata": {
    "deletable": true,
    "editable": true
   },
   "source": [
    "##### Feature importance"
   ]
  },
  {
   "cell_type": "markdown",
   "metadata": {
    "deletable": true,
    "editable": true
   },
   "source": [
    "Feature importances are calculated based on the frequency of the split by the feature and the depth of the nodes of the tree in which the split took place."
   ]
  },
  {
   "cell_type": "code",
   "execution_count": 4,
   "metadata": {
    "collapsed": false,
    "deletable": true,
    "editable": true
   },
   "outputs": [
    {
     "name": "stdout",
     "output_type": "stream",
     "text": [
      "2 petal length (cm), importance = 0.59\n",
      "3 petal width (cm), importance = 0.41\n",
      "1 sepal width (cm), importance = 0.00\n",
      "0 sepal length (cm), importance = 0.00\n"
     ]
    }
   ],
   "source": [
    "most_important_features = argsort(clf.feature_importances_)[::-1]\n",
    "for idx in most_important_features:\n",
    "    print '%d %s, importance = %.2f' % (idx, iris_data.feature_names[idx], clf.feature_importances_[idx])"
   ]
  },
  {
   "cell_type": "markdown",
   "metadata": {
    "deletable": true,
    "editable": true
   },
   "source": [
    "##### Misclassified objects of `train` set "
   ]
  },
  {
   "cell_type": "code",
   "execution_count": 5,
   "metadata": {
    "collapsed": false,
    "deletable": true,
    "editable": true
   },
   "outputs": [
    {
     "data": {
      "text/plain": [
       "<matplotlib.text.Text at 0xc21deb8>"
      ]
     },
     "execution_count": 5,
     "metadata": {},
     "output_type": "execute_result"
    },
    {
     "data": {
      "image/png": "[encoded data removed]",
      "text/plain": [
       "<matplotlib.figure.Figure at 0x7132828>"
      ]
     },
     "metadata": {},
     "output_type": "display_data"
    }
   ],
   "source": [
    "xind, yind = most_important_features[0], most_important_features[1]\n",
    "err = (y != y_pred)\n",
    "scatter(X[err, xind], X[err, yind], c=y_pred[err], marker='x', s=80, linewidths=2)\n",
    "scatter(X[:, xind], X[:, yind], c=y)\n",
    "xlabel(iris_data.feature_names[xind])\n",
    "ylabel(iris_data.feature_names[yind])\n",
    "title(u'Classification errors')"
   ]
  },
  {
   "cell_type": "markdown",
   "metadata": {
    "deletable": true,
    "editable": true
   },
   "source": [
    "##### Tree visualization"
   ]
  },
  {
   "cell_type": "code",
   "execution_count": 6,
   "metadata": {
    "collapsed": false,
    "deletable": true,
    "editable": true
   },
   "outputs": [],
   "source": [
    "from sklearn.tree import export_graphviz\n",
    "export_graphviz(clf, out_file='tree.dot', feature_names=iris_data.feature_names)"
   ]
  },
  {
   "cell_type": "markdown",
   "metadata": {},
   "source": [
    "to use bash type !command, it might require **conda install graphviz**"
   ]
  },
  {
   "cell_type": "code",
   "execution_count": 31,
   "metadata": {
    "collapsed": false,
    "deletable": true,
    "editable": true
   },
   "outputs": [
    {
     "name": "stderr",
     "output_type": "stream",
     "text": [
      "\"dot\" ­Ґ пў«пҐвбп ў­гваҐ­­Ґ© Ё«Ё ў­Ґи­Ґ©\n",
      "Є®¬ ­¤®©, ЁбЇ®«­пҐ¬®© Їа®Ја ¬¬®© Ё«Ё Ї ЄҐв­л¬ д ©«®¬.\n"
     ]
    }
   ],
   "source": [
    "!dot -Tpng tree.dot -o tree.png"
   ]
  },
  {
   "cell_type": "code",
   "execution_count": 8,
   "metadata": {
    "collapsed": false,
    "deletable": true,
    "editable": true
   },
   "outputs": [
    {
     "data": {
      "image/png": "dHJlZS5wbmc=\n",
      "text/plain": [
       "<IPython.core.display.Image object>"
      ]
     },
     "execution_count": 8,
     "metadata": {},
     "output_type": "execute_result"
    }
   ],
   "source": [
    "from IPython.display import Image\n",
    "Image('tree.png')"
   ]
  },
  {
   "cell_type": "markdown",
   "metadata": {
    "deletable": true,
    "editable": true
   },
   "source": [
    "## Cross-validation"
   ]
  },
  {
   "cell_type": "code",
   "execution_count": 9,
   "metadata": {
    "collapsed": false,
    "deletable": true,
    "editable": true
   },
   "outputs": [],
   "source": [
    "from sklearn.datasets import load_boston\n",
    "boston_data = load_boston()\n",
    "X, y = boston_data.data, boston_data.target"
   ]
  },
  {
   "cell_type": "markdown",
   "metadata": {
    "deletable": true,
    "editable": true
   },
   "source": [
    "Fix 5-Fold partitioning"
   ]
  },
  {
   "cell_type": "code",
   "execution_count": 32,
   "metadata": {
    "collapsed": false,
    "deletable": true,
    "editable": true
   },
   "outputs": [
    {
     "name": "stderr",
     "output_type": "stream",
     "text": [
      "C:\\Users\\mariy\\Anaconda3\\lib\\site-packages\\sklearn\\cross_validation.py:44: DeprecationWarning: This module was deprecated in version 0.18 in favor of the model_selection module into which all the refactored classes and functions are moved. Also note that the interface of the new CV iterators are different from that of this module. This module will be removed in 0.20.\n",
      "  \"This module will be removed in 0.20.\", DeprecationWarning)\n"
     ]
    }
   ],
   "source": [
    "from sklearn.cross_validation import KFold\n",
    "cv = KFold(n=len(y), n_folds=5, shuffle=True, random_state=123)"
   ]
  },
  {
   "cell_type": "markdown",
   "metadata": {
    "deletable": true,
    "editable": true
   },
   "source": [
    "Pay attention for the arguments:\n",
    "  - `shuffle=True` - it shuffles dataset before partitioning, without it every partition would consist of consequent elements which is bad (you can see that in task #2)\n",
    "  - `random_state` - fixate random state, makes your partition reproducible."
   ]
  },
  {
   "cell_type": "markdown",
   "metadata": {
    "deletable": true,
    "editable": true
   },
   "source": [
    "Evaluate quality of KNN regression of the Boston Housing dataset for different values of K (number of neighbours). Consider mean absolute error as a quality metric:\n",
    "$$MAE = \\sum_i|y_{pred,i} - y_i|$$"
   ]
  },
  {
   "cell_type": "code",
   "execution_count": 11,
   "metadata": {
    "collapsed": false,
    "deletable": true,
    "editable": true
   },
   "outputs": [],
   "source": [
    "from sklearn.neighbors import KNeighborsRegressor\n",
    "from sklearn.cross_validation import cross_val_score"
   ]
  },
  {
   "cell_type": "markdown",
   "metadata": {
    "deletable": true,
    "editable": true
   },
   "source": [
    "Let's try different `n_neighbors` values, for each value evaluate mean and stdandard deviation of MAE using cross-validation. [Magic `%%time`](http://nbviewer.ipython.org/github/ipython/ipython/blob/1.x/examples/notebooks/Cell%20Magics.ipynb) will help you measure time of code execution\n",
    "\n"
   ]
  },
  {
   "cell_type": "code",
   "execution_count": 30,
   "metadata": {
    "collapsed": false,
    "deletable": true,
    "editable": true
   },
   "outputs": [
    {
     "ename": "TypeError",
     "evalue": "unsupported operand type(s) for +: 'range' and 'range'",
     "output_type": "error",
     "traceback": [
      "\u001b[0;31m---------------------------------------------------------------------------\u001b[0m",
      "\u001b[0;31mTypeError\u001b[0m                                 Traceback (most recent call last)",
      "\u001b[0;32m<ipython-input-30-40aab4b0edec>\u001b[0m in \u001b[0;36m<module>\u001b[0;34m()\u001b[0m\n\u001b[0;32m----> 1\u001b[0;31m \u001b[0mget_ipython\u001b[0m\u001b[1;33m(\u001b[0m\u001b[1;33m)\u001b[0m\u001b[1;33m.\u001b[0m\u001b[0mrun_cell_magic\u001b[0m\u001b[1;33m(\u001b[0m\u001b[1;34m'time'\u001b[0m\u001b[1;33m,\u001b[0m \u001b[1;34m''\u001b[0m\u001b[1;33m,\u001b[0m \u001b[1;34m\"\\nk_values = range(1, 10) + range(10, 50, 5)\\nmae_cv_mean = []\\nmae_cv_std = []\\n\\nfor k in k_values:\\n    clf = KNeighborsRegressor(n_neighbors=k)\\n    mae_folds = -cross_val_score(clf, X, y, cv=cv, scoring='mean_absolute_error')\\n    mae_cv_mean.append(mae_folds.mean())\\n    mae_cv_std.append(mae_folds.std())\"\u001b[0m\u001b[1;33m)\u001b[0m\u001b[1;33m\u001b[0m\u001b[0m\n\u001b[0m",
      "\u001b[0;32mC:\\Users\\mariy\\Anaconda3\\lib\\site-packages\\IPython\\core\\interactiveshell.py\u001b[0m in \u001b[0;36mrun_cell_magic\u001b[0;34m(self, magic_name, line, cell)\u001b[0m\n\u001b[1;32m   2113\u001b[0m             \u001b[0mmagic_arg_s\u001b[0m \u001b[1;33m=\u001b[0m \u001b[0mself\u001b[0m\u001b[1;33m.\u001b[0m\u001b[0mvar_expand\u001b[0m\u001b[1;33m(\u001b[0m\u001b[0mline\u001b[0m\u001b[1;33m,\u001b[0m \u001b[0mstack_depth\u001b[0m\u001b[1;33m)\u001b[0m\u001b[1;33m\u001b[0m\u001b[0m\n\u001b[1;32m   2114\u001b[0m             \u001b[1;32mwith\u001b[0m \u001b[0mself\u001b[0m\u001b[1;33m.\u001b[0m\u001b[0mbuiltin_trap\u001b[0m\u001b[1;33m:\u001b[0m\u001b[1;33m\u001b[0m\u001b[0m\n\u001b[0;32m-> 2115\u001b[0;31m                 \u001b[0mresult\u001b[0m \u001b[1;33m=\u001b[0m \u001b[0mfn\u001b[0m\u001b[1;33m(\u001b[0m\u001b[0mmagic_arg_s\u001b[0m\u001b[1;33m,\u001b[0m \u001b[0mcell\u001b[0m\u001b[1;33m)\u001b[0m\u001b[1;33m\u001b[0m\u001b[0m\n\u001b[0m\u001b[1;32m   2116\u001b[0m             \u001b[1;32mreturn\u001b[0m \u001b[0mresult\u001b[0m\u001b[1;33m\u001b[0m\u001b[0m\n\u001b[1;32m   2117\u001b[0m \u001b[1;33m\u001b[0m\u001b[0m\n",
      "\u001b[0;32m<decorator-gen-60>\u001b[0m in \u001b[0;36mtime\u001b[0;34m(self, line, cell, local_ns)\u001b[0m\n",
      "\u001b[0;32mC:\\Users\\mariy\\Anaconda3\\lib\\site-packages\\IPython\\core\\magic.py\u001b[0m in \u001b[0;36m<lambda>\u001b[0;34m(f, *a, **k)\u001b[0m\n\u001b[1;32m    186\u001b[0m     \u001b[1;31m# but it's overkill for just that one bit of state.\u001b[0m\u001b[1;33m\u001b[0m\u001b[1;33m\u001b[0m\u001b[0m\n\u001b[1;32m    187\u001b[0m     \u001b[1;32mdef\u001b[0m \u001b[0mmagic_deco\u001b[0m\u001b[1;33m(\u001b[0m\u001b[0marg\u001b[0m\u001b[1;33m)\u001b[0m\u001b[1;33m:\u001b[0m\u001b[1;33m\u001b[0m\u001b[0m\n\u001b[0;32m--> 188\u001b[0;31m         \u001b[0mcall\u001b[0m \u001b[1;33m=\u001b[0m \u001b[1;32mlambda\u001b[0m \u001b[0mf\u001b[0m\u001b[1;33m,\u001b[0m \u001b[1;33m*\u001b[0m\u001b[0ma\u001b[0m\u001b[1;33m,\u001b[0m \u001b[1;33m**\u001b[0m\u001b[0mk\u001b[0m\u001b[1;33m:\u001b[0m \u001b[0mf\u001b[0m\u001b[1;33m(\u001b[0m\u001b[1;33m*\u001b[0m\u001b[0ma\u001b[0m\u001b[1;33m,\u001b[0m \u001b[1;33m**\u001b[0m\u001b[0mk\u001b[0m\u001b[1;33m)\u001b[0m\u001b[1;33m\u001b[0m\u001b[0m\n\u001b[0m\u001b[1;32m    189\u001b[0m \u001b[1;33m\u001b[0m\u001b[0m\n\u001b[1;32m    190\u001b[0m         \u001b[1;32mif\u001b[0m \u001b[0mcallable\u001b[0m\u001b[1;33m(\u001b[0m\u001b[0marg\u001b[0m\u001b[1;33m)\u001b[0m\u001b[1;33m:\u001b[0m\u001b[1;33m\u001b[0m\u001b[0m\n",
      "\u001b[0;32mC:\\Users\\mariy\\Anaconda3\\lib\\site-packages\\IPython\\core\\magics\\execution.py\u001b[0m in \u001b[0;36mtime\u001b[0;34m(self, line, cell, local_ns)\u001b[0m\n\u001b[1;32m   1178\u001b[0m         \u001b[1;32melse\u001b[0m\u001b[1;33m:\u001b[0m\u001b[1;33m\u001b[0m\u001b[0m\n\u001b[1;32m   1179\u001b[0m             \u001b[0mst\u001b[0m \u001b[1;33m=\u001b[0m \u001b[0mclock2\u001b[0m\u001b[1;33m(\u001b[0m\u001b[1;33m)\u001b[0m\u001b[1;33m\u001b[0m\u001b[0m\n\u001b[0;32m-> 1180\u001b[0;31m             \u001b[0mexec\u001b[0m\u001b[1;33m(\u001b[0m\u001b[0mcode\u001b[0m\u001b[1;33m,\u001b[0m \u001b[0mglob\u001b[0m\u001b[1;33m,\u001b[0m \u001b[0mlocal_ns\u001b[0m\u001b[1;33m)\u001b[0m\u001b[1;33m\u001b[0m\u001b[0m\n\u001b[0m\u001b[1;32m   1181\u001b[0m             \u001b[0mend\u001b[0m \u001b[1;33m=\u001b[0m \u001b[0mclock2\u001b[0m\u001b[1;33m(\u001b[0m\u001b[1;33m)\u001b[0m\u001b[1;33m\u001b[0m\u001b[0m\n\u001b[1;32m   1182\u001b[0m             \u001b[0mout\u001b[0m \u001b[1;33m=\u001b[0m \u001b[1;32mNone\u001b[0m\u001b[1;33m\u001b[0m\u001b[0m\n",
      "\u001b[0;32m<timed exec>\u001b[0m in \u001b[0;36m<module>\u001b[0;34m()\u001b[0m\n",
      "\u001b[0;31mTypeError\u001b[0m: unsupported operand type(s) for +: 'range' and 'range'"
     ]
    }
   ],
   "source": [
    "%%time \n",
    "\n",
    "k_values = range(1, 10) + range(10, 50, 5)\n",
    "mae_cv_mean = []\n",
    "mae_cv_std = []\n",
    "\n",
    "for k in k_values:\n",
    "    clf = KNeighborsRegressor(n_neighbors=k)\n",
    "    mae_folds = -cross_val_score(clf, X, y, cv=cv, scoring='mean_absolute_error')\n",
    "    mae_cv_mean.append(mae_folds.mean())\n",
    "    mae_cv_std.append(mae_folds.std())"
   ]
  },
  {
   "cell_type": "markdown",
   "metadata": {
    "deletable": true,
    "editable": true
   },
   "source": [
    "##### Figure, that describes optimality of parameter selection "
   ]
  },
  {
   "cell_type": "code",
   "execution_count": 13,
   "metadata": {
    "collapsed": false,
    "deletable": true,
    "editable": true
   },
   "outputs": [
    {
     "data": {
      "text/plain": [
       "<matplotlib.text.Annotation at 0xc56ae10>"
      ]
     },
     "execution_count": 13,
     "metadata": {},
     "output_type": "execute_result"
    },
    {
     "data": {
      "image/png": "[encoded data removed]",
      "text/plain": [
       "<matplotlib.figure.Figure at 0xc56a908>"
      ]
     },
     "metadata": {},
     "output_type": "display_data"
    }
   ],
   "source": [
    "figure(figsize=(8, 4))\n",
    "errorbar(k_values, mae_cv_mean, yerr=array(mae_cv_std)*2)\n",
    "title('Choosing optimal number of neighbors with 5-Fold Cross-Validation')\n",
    "xlabel('n_neighbors')\n",
    "ylabel('mean absolute error')\n",
    "\n",
    "opt_idx = argmin(mae_cv_mean)\n",
    "optimal_k = k_values[opt_idx]\n",
    "optimal_mae = mae_cv_mean[opt_idx]\n",
    "annotate('n_neighbors=%d\\nMAE=%f' % (optimal_k, optimal_mae), \n",
    "         xy=(opt_idx, optimal_mae), xytext=(30, optimal_mae), \n",
    "         arrowprops=dict(facecolor='black', shrink=0.05, alpha=0.5))"
   ]
  },
  {
   "cell_type": "code",
   "execution_count": 5,
   "metadata": {
    "collapsed": false
   },
   "outputs": [
    {
     "ename": "ModuleNotFoundError",
     "evalue": "No module named 'urllib2'",
     "output_type": "error",
     "traceback": [
      "\u001b[0;31m---------------------------------------------------------------------------\u001b[0m",
      "\u001b[0;31mModuleNotFoundError\u001b[0m                       Traceback (most recent call last)",
      "\u001b[0;32m<ipython-input-5-67dfc26fda7d>\u001b[0m in \u001b[0;36m<module>\u001b[0;34m()\u001b[0m\n\u001b[1;32m      1\u001b[0m \u001b[1;32mimport\u001b[0m \u001b[0mnumpy\u001b[0m \u001b[1;32mas\u001b[0m \u001b[0mnp\u001b[0m\u001b[1;33m\u001b[0m\u001b[0m\n\u001b[1;32m      2\u001b[0m \u001b[1;32mimport\u001b[0m \u001b[0mpandas\u001b[0m \u001b[1;32mas\u001b[0m \u001b[0mpd\u001b[0m\u001b[1;33m\u001b[0m\u001b[0m\n\u001b[0;32m----> 3\u001b[0;31m \u001b[1;32mimport\u001b[0m \u001b[0murllib2\u001b[0m\u001b[1;33m\u001b[0m\u001b[0m\n\u001b[0m\u001b[1;32m      4\u001b[0m \u001b[1;33m\u001b[0m\u001b[0m\n\u001b[1;32m      5\u001b[0m \u001b[1;32mimport\u001b[0m \u001b[0mseaborn\u001b[0m \u001b[1;32mas\u001b[0m \u001b[0msns\u001b[0m\u001b[1;33m\u001b[0m\u001b[0m\n",
      "\u001b[0;31mModuleNotFoundError\u001b[0m: No module named 'urllib2'"
     ]
    }
   ],
   "source": [
    "import numpy as np\n",
    "import pandas as pd\n",
    "import urllib2\n",
    "\n",
    "import seaborn as sns\n",
    "import matplotlib.pyplot as plt\n",
    "%matplotlib inline\n",
    "\n",
    "from sklearn.tree import DecisionTreeClassifier\n",
    "\n",
    "\n",
    "np.set_printoptions(suppress=True)"
   ]
  },
  {
   "cell_type": "markdown",
   "metadata": {},
   "source": [
    "# Task starts xxxxxxxxxxxxxxxxxxxxxxxxxxxxxxxxxxxxxxxxxxxxxxxxxxxxxxxxx"
   ]
  },
  {
   "cell_type": "markdown",
   "metadata": {},
   "source": [
    "# 1. Spam classification"
   ]
  },
  {
   "cell_type": "markdown",
   "metadata": {},
   "source": [
    "## - Download dataset Spambase"
   ]
  },
  {
   "cell_type": "code",
   "execution_count": 24,
   "metadata": {
    "collapsed": false,
    "scrolled": true
   },
   "outputs": [
    {
     "data": {
      "text/html": [
       "<div>\n",
       "<table border=\"1\" class=\"dataframe\">\n",
       "  <thead>\n",
       "    <tr style=\"text-align: right;\">\n",
       "      <th></th>\n",
       "      <th>word_freq_make</th>\n",
       "      <th>word_freq_address</th>\n",
       "      <th>word_freq_all</th>\n",
       "      <th>word_freq_3d</th>\n",
       "      <th>word_freq_our</th>\n",
       "      <th>word_freq_over</th>\n",
       "      <th>word_freq_remove</th>\n",
       "      <th>word_freq_internet</th>\n",
       "      <th>word_freq_order</th>\n",
       "      <th>word_freq_mail</th>\n",
       "      <th>...</th>\n",
       "      <th>char_freq_;</th>\n",
       "      <th>char_freq_(</th>\n",
       "      <th>char_freq_[</th>\n",
       "      <th>char_freq_!</th>\n",
       "      <th>char_freq_$</th>\n",
       "      <th>char_freq_#</th>\n",
       "      <th>capital_run_length_average</th>\n",
       "      <th>capital_run_length_longest</th>\n",
       "      <th>capital_run_length_total</th>\n",
       "      <th>spam</th>\n",
       "    </tr>\n",
       "  </thead>\n",
       "  <tbody>\n",
       "    <tr>\n",
       "      <th>0</th>\n",
       "      <td>0.00</td>\n",
       "      <td>0.64</td>\n",
       "      <td>0.64</td>\n",
       "      <td>0.0</td>\n",
       "      <td>0.32</td>\n",
       "      <td>0.00</td>\n",
       "      <td>0.00</td>\n",
       "      <td>0.00</td>\n",
       "      <td>0.00</td>\n",
       "      <td>0.00</td>\n",
       "      <td>...</td>\n",
       "      <td>0.00</td>\n",
       "      <td>0.000</td>\n",
       "      <td>0.0</td>\n",
       "      <td>0.778</td>\n",
       "      <td>0.000</td>\n",
       "      <td>0.000</td>\n",
       "      <td>3.756</td>\n",
       "      <td>61</td>\n",
       "      <td>278</td>\n",
       "      <td>1</td>\n",
       "    </tr>\n",
       "    <tr>\n",
       "      <th>1</th>\n",
       "      <td>0.21</td>\n",
       "      <td>0.28</td>\n",
       "      <td>0.50</td>\n",
       "      <td>0.0</td>\n",
       "      <td>0.14</td>\n",
       "      <td>0.28</td>\n",
       "      <td>0.21</td>\n",
       "      <td>0.07</td>\n",
       "      <td>0.00</td>\n",
       "      <td>0.94</td>\n",
       "      <td>...</td>\n",
       "      <td>0.00</td>\n",
       "      <td>0.132</td>\n",
       "      <td>0.0</td>\n",
       "      <td>0.372</td>\n",
       "      <td>0.180</td>\n",
       "      <td>0.048</td>\n",
       "      <td>5.114</td>\n",
       "      <td>101</td>\n",
       "      <td>1028</td>\n",
       "      <td>1</td>\n",
       "    </tr>\n",
       "    <tr>\n",
       "      <th>2</th>\n",
       "      <td>0.06</td>\n",
       "      <td>0.00</td>\n",
       "      <td>0.71</td>\n",
       "      <td>0.0</td>\n",
       "      <td>1.23</td>\n",
       "      <td>0.19</td>\n",
       "      <td>0.19</td>\n",
       "      <td>0.12</td>\n",
       "      <td>0.64</td>\n",
       "      <td>0.25</td>\n",
       "      <td>...</td>\n",
       "      <td>0.01</td>\n",
       "      <td>0.143</td>\n",
       "      <td>0.0</td>\n",
       "      <td>0.276</td>\n",
       "      <td>0.184</td>\n",
       "      <td>0.010</td>\n",
       "      <td>9.821</td>\n",
       "      <td>485</td>\n",
       "      <td>2259</td>\n",
       "      <td>1</td>\n",
       "    </tr>\n",
       "    <tr>\n",
       "      <th>3</th>\n",
       "      <td>0.00</td>\n",
       "      <td>0.00</td>\n",
       "      <td>0.00</td>\n",
       "      <td>0.0</td>\n",
       "      <td>0.63</td>\n",
       "      <td>0.00</td>\n",
       "      <td>0.31</td>\n",
       "      <td>0.63</td>\n",
       "      <td>0.31</td>\n",
       "      <td>0.63</td>\n",
       "      <td>...</td>\n",
       "      <td>0.00</td>\n",
       "      <td>0.137</td>\n",
       "      <td>0.0</td>\n",
       "      <td>0.137</td>\n",
       "      <td>0.000</td>\n",
       "      <td>0.000</td>\n",
       "      <td>3.537</td>\n",
       "      <td>40</td>\n",
       "      <td>191</td>\n",
       "      <td>1</td>\n",
       "    </tr>\n",
       "    <tr>\n",
       "      <th>4</th>\n",
       "      <td>0.00</td>\n",
       "      <td>0.00</td>\n",
       "      <td>0.00</td>\n",
       "      <td>0.0</td>\n",
       "      <td>0.63</td>\n",
       "      <td>0.00</td>\n",
       "      <td>0.31</td>\n",
       "      <td>0.63</td>\n",
       "      <td>0.31</td>\n",
       "      <td>0.63</td>\n",
       "      <td>...</td>\n",
       "      <td>0.00</td>\n",
       "      <td>0.135</td>\n",
       "      <td>0.0</td>\n",
       "      <td>0.135</td>\n",
       "      <td>0.000</td>\n",
       "      <td>0.000</td>\n",
       "      <td>3.537</td>\n",
       "      <td>40</td>\n",
       "      <td>191</td>\n",
       "      <td>1</td>\n",
       "    </tr>\n",
       "  </tbody>\n",
       "</table>\n",
       "<p>5 rows × 58 columns</p>\n",
       "</div>"
      ],
      "text/plain": [
       "   word_freq_make  word_freq_address  word_freq_all  word_freq_3d  \\\n",
       "0            0.00               0.64           0.64           0.0   \n",
       "1            0.21               0.28           0.50           0.0   \n",
       "2            0.06               0.00           0.71           0.0   \n",
       "3            0.00               0.00           0.00           0.0   \n",
       "4            0.00               0.00           0.00           0.0   \n",
       "\n",
       "   word_freq_our  word_freq_over  word_freq_remove  word_freq_internet  \\\n",
       "0           0.32            0.00              0.00                0.00   \n",
       "1           0.14            0.28              0.21                0.07   \n",
       "2           1.23            0.19              0.19                0.12   \n",
       "3           0.63            0.00              0.31                0.63   \n",
       "4           0.63            0.00              0.31                0.63   \n",
       "\n",
       "   word_freq_order  word_freq_mail  ...   char_freq_;  char_freq_(  \\\n",
       "0             0.00            0.00  ...          0.00        0.000   \n",
       "1             0.00            0.94  ...          0.00        0.132   \n",
       "2             0.64            0.25  ...          0.01        0.143   \n",
       "3             0.31            0.63  ...          0.00        0.137   \n",
       "4             0.31            0.63  ...          0.00        0.135   \n",
       "\n",
       "   char_freq_[  char_freq_!  char_freq_$  char_freq_#  \\\n",
       "0          0.0        0.778        0.000        0.000   \n",
       "1          0.0        0.372        0.180        0.048   \n",
       "2          0.0        0.276        0.184        0.010   \n",
       "3          0.0        0.137        0.000        0.000   \n",
       "4          0.0        0.135        0.000        0.000   \n",
       "\n",
       "   capital_run_length_average  capital_run_length_longest  \\\n",
       "0                       3.756                          61   \n",
       "1                       5.114                         101   \n",
       "2                       9.821                         485   \n",
       "3                       3.537                          40   \n",
       "4                       3.537                          40   \n",
       "\n",
       "   capital_run_length_total  spam  \n",
       "0                       278     1  \n",
       "1                      1028     1  \n",
       "2                      2259     1  \n",
       "3                       191     1  \n",
       "4                       191     1  \n",
       "\n",
       "[5 rows x 58 columns]"
      ]
     },
     "execution_count": 24,
     "metadata": {},
     "output_type": "execute_result"
    }
   ],
   "source": [
    "import numpy as np\n",
    "import pandas as pd\n",
    "import urllib.request\n",
    "\n",
    "import seaborn as sns\n",
    "import matplotlib.pyplot as plt\n",
    "%matplotlib inline\n",
    "\n",
    "from sklearn.tree import DecisionTreeClassifier\n",
    "\n",
    "\n",
    "np.set_printoptions(suppress=True)\n",
    "\n",
    "SPAMBASE_NAMES_URL = 'https://archive.ics.uci.edu/ml/machine-learning-databases/spambase/spambase.names'\n",
    "SPAMBASE_DATA_URL = 'https://archive.ics.uci.edu/ml/machine-learning-databases/spambase/spambase.data'\n",
    "\n",
    "feature_names = [\n",
    "    line.decode('utf-8').strip().split(':')[0] for line in urllib.request.urlopen(SPAMBASE_NAMES_URL).readlines()[33:]\n",
    "]\n",
    "\n",
    "spam_data = pd.read_csv(SPAMBASE_DATA_URL, header=None, names=(feature_names + ['spam']))\n",
    " \n",
    "X, y = spam_data.ix[:, :-1].values, spam_data.ix[:, -1].values\n",
    " \n",
    "spam_data.head()"
   ]
  },
  {
   "cell_type": "markdown",
   "metadata": {},
   "source": [
    "## How many letters in a dataset ?"
   ]
  },
  {
   "cell_type": "code",
   "execution_count": 25,
   "metadata": {
    "collapsed": false
   },
   "outputs": [
    {
     "name": "stdout",
     "output_type": "stream",
     "text": [
      "How many letters? - 4601\n"
     ]
    }
   ],
   "source": [
    "print (\"How many letters? -\", len(spam_data))"
   ]
  },
  {
   "cell_type": "markdown",
   "metadata": {},
   "source": [
    "## Which portion of them is bad (spam) ?"
   ]
  },
  {
   "cell_type": "code",
   "execution_count": 27,
   "metadata": {
    "collapsed": false
   },
   "outputs": [
    {
     "name": "stdout",
     "output_type": "stream",
     "text": [
      "Which portion of them is bad (spam)? - 0.39404477287546186\n"
     ]
    }
   ],
   "source": [
    "print (\"Which portion of them is bad (spam)? -\", len(spam_data.groupby('spam').get_group(1)) / float(len(spam_data)))"
   ]
  },
  {
   "cell_type": "markdown",
   "metadata": {},
   "source": [
    "## How you can group letters' features ?"
   ]
  },
  {
   "cell_type": "markdown",
   "metadata": {},
   "source": [
    "### According to Spambase Data Set description from \"https://archive.ics.uci.edu/ml/datasets/Spambase\" let's group attributes to 6 group\n",
    "\n",
    "- 48 continuous real [0,100] attributes of type word_freq_WORD \n",
    "= percentage of words in the e-mail that match WORD, i.e. 100 * (number of times the WORD appears in the e-mail) / total number of words in e-mail. A \"word\" in this case is any string of alphanumeric characters bounded by non-alphanumeric characters or end-of-string. \n",
    "\n",
    "- 6 continuous real [0,100] attributes of type char_freq_CHAR] \n",
    "= percentage of characters in the e-mail that match CHAR, i.e. 100 * (number of CHAR occurences) / total characters in e-mail \n",
    "\n",
    "- 1 continuous real [1,...] attribute of type capital_run_length_average \n",
    "= average length of uninterrupted sequences of capital letters\n",
    "\n",
    "- 1 continuous integer [1,...] attribute of type capital_run_length_longest \n",
    "= length of longest uninterrupted sequence of capital letters\n",
    "\n",
    "- 1 continuous integer [1,...] attribute of type capital_run_length_total \n",
    "= sum of length of uninterrupted sequences of capital letters \n",
    "= total number of capital letters in the e-mail\n",
    "\n",
    "- 1 nominal {0,1} class attribute of type spam \n",
    "= denotes whether the e-mail was considered spam (1) or not (0), i.e. unsolicited commercial e-mail"
   ]
  },
  {
   "cell_type": "markdown",
   "metadata": {},
   "source": [
    "# 2. Classifier training and it's evaluation"
   ]
  },
  {
   "cell_type": "markdown",
   "metadata": {},
   "source": [
    "- Split dataset into to disjoint subsets: train - first 3000 examples (≈65%), test - all others"
   ]
  },
  {
   "cell_type": "code",
   "execution_count": 34,
   "metadata": {
    "collapsed": false
   },
   "outputs": [],
   "source": [
    "train_part = spam_data[0:3000]\n",
    "test_part = spam_data[3000:]\n",
    "\n",
    "train_part, train_result = train_part.drop('spam', 1), list(train_part['spam'])\n",
    "test_part, test_result = test_part.drop('spam', 1), list(test_part['spam'])"
   ]
  },
  {
   "cell_type": "markdown",
   "metadata": {},
   "source": [
    "- Train decision tree with train. Classify examples from test. Calculate classification quality metrics, described above: Accuracy, Precision, Recall, F1. "
   ]
  },
  {
   "cell_type": "code",
   "execution_count": 36,
   "metadata": {
    "collapsed": false
   },
   "outputs": [],
   "source": [
    "from sklearn.tree import DecisionTreeClassifier\n",
    "X, y = train_part, train_result\n",
    "\n",
    "random_state = 7\n",
    "\n",
    "classifier = DecisionTreeClassifier(max_depth=7, random_state=random_state).fit(X, y)\n",
    "\n",
    "d_tree = {}\n",
    "d_tree_pred = classifier.predict(test_part)\n",
    "d_tree_pred_prob = [x[1] for x in classifier.predict_proba(test_part)]"
   ]
  },
  {
   "cell_type": "code",
   "execution_count": 40,
   "metadata": {
    "collapsed": false,
    "scrolled": true
   },
   "outputs": [
    {
     "name": "stdout",
     "output_type": "stream",
     "text": [
      "Accuracy = 0.770768269831\n",
      "Precision = 0.0\n",
      "Recall = 0.0\n",
      "F1 = 0.0\n"
     ]
    },
    {
     "name": "stderr",
     "output_type": "stream",
     "text": [
      "C:\\Users\\mariy\\Anaconda3\\lib\\site-packages\\sklearn\\metrics\\classification.py:1115: UndefinedMetricWarning: Recall is ill-defined and being set to 0.0 due to no true samples.\n",
      "  'recall', 'true', average, warn_for)\n",
      "C:\\Users\\mariy\\Anaconda3\\lib\\site-packages\\sklearn\\metrics\\classification.py:1115: UndefinedMetricWarning: F-score is ill-defined and being set to 0.0 due to no true samples.\n",
      "  'recall', 'true', average, warn_for)\n"
     ]
    }
   ],
   "source": [
    "from sklearn.metrics import accuracy_score, precision_score, f1_score, recall_score\n",
    "\n",
    "d_tree_acc = accuracy_score(test_result, d_tree_pred)\n",
    "d_tree_prec = precision_score(test_result, d_tree_pred)\n",
    "d_tree_rec = recall_score(test_result, d_tree_pred)\n",
    "d_tree_f1 = f1_score(test_result, d_tree_pred)\n",
    "\n",
    "print(\"Accuracy =\", d_tree_acc)\n",
    "print(\"Precision =\", d_tree_prec)\n",
    "print (\"Recall =\", d_tree_rec)\n",
    "print (\"F1 =\", d_tree_f1)"
   ]
  },
  {
   "cell_type": "markdown",
   "metadata": {},
   "source": [
    "- Which drawbacks does evaluation on this test have? How you can make evalution more informative?"
   ]
  },
  {
   "cell_type": "markdown",
   "metadata": {},
   "source": [
    "Dataframe is sorted by spam column, so we used for train almost all spam"
   ]
  },
  {
   "cell_type": "markdown",
   "metadata": {},
   "source": [
    "- Repeat experiment with dataset shuffled before split"
   ]
  },
  {
   "cell_type": "code",
   "execution_count": 45,
   "metadata": {
    "collapsed": false
   },
   "outputs": [],
   "source": [
    "from sklearn.model_selection import ShuffleSplit\n",
    "rs = ShuffleSplit(test_size=.35, random_state=random_state)\n",
    "\n",
    "train_index, test_index = next(rs.split(spam_data))\n",
    "train_part = spam_data.iloc[train_index]\n",
    "test_part = spam_data.iloc[test_index]\n",
    "\n",
    "train_part, train_result = train_part.drop('spam', 1), list(train_part['spam'])\n",
    "test_part, test_result = test_part.drop('spam', 1), list(test_part['spam'])"
   ]
  },
  {
   "cell_type": "code",
   "execution_count": 46,
   "metadata": {
    "collapsed": true
   },
   "outputs": [],
   "source": [
    "X, y = train_part, train_result\n",
    "\n",
    "classifier = DecisionTreeClassifier(max_depth=7, random_state=random_state).fit(X, y)\n",
    "\n",
    "d_tree_sh = {}\n",
    "d_tree_sh_pred = classifier.predict(test_part)\n",
    "d_tree_sh_pred_prob = [x[1] for x in classifier.predict_proba(test_part)]"
   ]
  },
  {
   "cell_type": "code",
   "execution_count": 48,
   "metadata": {
    "collapsed": false
   },
   "outputs": [
    {
     "name": "stdout",
     "output_type": "stream",
     "text": [
      "Accuracy = 0.906890130354\n",
      "Precision = 0.891849529781\n",
      "Recall = 0.875384615385\n",
      "F1 = 0.883540372671\n"
     ]
    }
   ],
   "source": [
    "d_tree_sh_acc = accuracy_score(test_result, d_tree_sh_pred)\n",
    "d_tree_sh_prec = precision_score(test_result, d_tree_sh_pred)\n",
    "d_tree_sh_rec = recall_score(test_result, d_tree_sh_pred)\n",
    "d_tree_sh_f1 = f1_score(test_result, d_tree_sh_pred)\n",
    "\n",
    "print(\"Accuracy =\", d_tree_sh_acc)\n",
    "print(\"Precision =\", d_tree_sh_prec)\n",
    "print (\"Recall =\", d_tree_sh_rec)\n",
    "print (\"F1 =\", d_tree_sh_f1)"
   ]
  },
  {
   "cell_type": "markdown",
   "metadata": {},
   "source": [
    "- Which features are the most informative? Use feature importance from DecisionTreeClassifier"
   ]
  },
  {
   "cell_type": "code",
   "execution_count": 50,
   "metadata": {
    "collapsed": false
   },
   "outputs": [
    {
     "name": "stdout",
     "output_type": "stream",
     "text": [
      "52 char_freq_$, importance = 0.43\n",
      "6 word_freq_remove, importance = 0.18\n",
      "51 char_freq_!, importance = 0.10\n",
      "24 word_freq_hp, importance = 0.07\n",
      "56 capital_run_length_total, importance = 0.04\n",
      "15 word_freq_free, importance = 0.04\n",
      "54 capital_run_length_average, importance = 0.02\n",
      "49 char_freq_(, importance = 0.01\n",
      "55 capital_run_length_longest, importance = 0.01\n",
      "45 word_freq_edu, importance = 0.01\n",
      "23 word_freq_money, importance = 0.01\n",
      "36 word_freq_1999, importance = 0.01\n",
      "38 word_freq_pm, importance = 0.01\n"
     ]
    }
   ],
   "source": [
    "most_important_features = np.argsort(classifier.feature_importances_)[::-1]\n",
    "for i in most_important_features[0:13]:\n",
    "    print ('%d %s, importance = %.2f' % (i, spam_data.columns.values[i], classifier.feature_importances_[i]))"
   ]
  },
  {
   "cell_type": "markdown",
   "metadata": {},
   "source": [
    "- What you can say about quality of the best constant model (constant model always predicts one class)"
   ]
  },
  {
   "cell_type": "code",
   "execution_count": 51,
   "metadata": {
    "collapsed": false
   },
   "outputs": [],
   "source": [
    "from sklearn.dummy import DummyClassifier\n",
    "\n",
    "X, y = train_part, train_result\n",
    "\n",
    "classifier = DummyClassifier(strategy='constant', random_state=random_state, constant=1).fit(X, y)\n",
    "\n",
    "const1 = {}\n",
    "const1_pred = classifier.predict(test_part)\n",
    "const1_pred_prob= [x[1] for x in classifier.predict_proba(test_part)]"
   ]
  },
  {
   "cell_type": "code",
   "execution_count": 54,
   "metadata": {
    "collapsed": false,
    "scrolled": true
   },
   "outputs": [
    {
     "name": "stdout",
     "output_type": "stream",
     "text": [
      "Accuracy = 0.4034761018\n",
      "Precision = 0.4034761018\n",
      "Recall = 1.0\n",
      "F1 = 0.574966828837\n"
     ]
    }
   ],
   "source": [
    "const1_acc = accuracy_score(test_result, const1_pred)\n",
    "const1_prec = precision_score(test_result, const1_pred)\n",
    "const1_rec = recall_score(test_result, const1_pred)\n",
    "const1_f1 = f1_score(test_result, const1_pred)\n",
    "\n",
    "print(\"Accuracy =\", const1_acc)\n",
    "print(\"Precision =\", const1_prec)\n",
    "print (\"Recall =\", const1_rec)\n",
    "print (\"F1 =\", const1_f1)"
   ]
  },
  {
   "cell_type": "markdown",
   "metadata": {},
   "source": [
    "- Train KNN model and evaluate it on test"
   ]
  },
  {
   "cell_type": "code",
   "execution_count": 55,
   "metadata": {
    "collapsed": true
   },
   "outputs": [],
   "source": [
    "train_part = spam_data.iloc[train_index]\n",
    "test_part = spam_data.iloc[test_index]\n",
    "\n",
    "train_part, train_result = train_part.drop('spam', 1), list(train_part['spam'])\n",
    "test_part, test_result = test_part.drop('spam', 1),  list(test_part['spam'])"
   ]
  },
  {
   "cell_type": "code",
   "execution_count": 57,
   "metadata": {
    "collapsed": false
   },
   "outputs": [],
   "source": [
    "from sklearn.neighbors import KNeighborsClassifier\n",
    "nbrs = KNeighborsClassifier(n_neighbors=10, metric='euclidean')\n",
    "\n",
    "X, y = train_part, train_result\n",
    "nbrs.fit(X, y) \n",
    "\n",
    "knn = {}\n",
    "knn_pred = nbrs.predict(test_part)\n",
    "knn_pred_prob = [x[1] for x in nbrs.predict_proba(test_part)]"
   ]
  },
  {
   "cell_type": "code",
   "execution_count": 59,
   "metadata": {
    "collapsed": false,
    "scrolled": false
   },
   "outputs": [
    {
     "name": "stdout",
     "output_type": "stream",
     "text": [
      "Accuracy = 0.777157045313\n",
      "Precision = 0.774011299435\n",
      "Recall = 0.632307692308\n",
      "F1 = 0.696020321761\n"
     ]
    }
   ],
   "source": [
    "knn_acc = accuracy_score(test_result, knn_pred)\n",
    "knn_prec = precision_score(test_result, knn_pred)\n",
    "knn_rec = recall_score(test_result, knn_pred)\n",
    "knn_f1 = f1_score(test_result, knn_pred)\n",
    "\n",
    "print(\"Accuracy =\", knn_acc)\n",
    "print(\"Precision =\", knn_prec)\n",
    "print (\"Recall =\", knn_rec)\n",
    "print (\"F1 =\", knn_f1)"
   ]
  },
  {
   "cell_type": "markdown",
   "metadata": {},
   "source": [
    "- Train KNN for rescaled features. Evaluate quality of the model on test. Does that feature transformation increased given metrics for KNN? Repeat experiment for DecisionTree. Why rescaling has no effect on the quality of decision tree?"
   ]
  },
  {
   "cell_type": "markdown",
   "metadata": {},
   "source": [
    "        - Rescaling for KNN"
   ]
  },
  {
   "cell_type": "code",
   "execution_count": 61,
   "metadata": {
    "collapsed": false
   },
   "outputs": [
    {
     "name": "stderr",
     "output_type": "stream",
     "text": [
      "C:\\Users\\mariy\\Anaconda3\\lib\\site-packages\\sklearn\\utils\\validation.py:429: DataConversionWarning: Data with input dtype int64 was converted to float64 by the scale function.\n",
      "  warnings.warn(msg, _DataConversionWarning)\n"
     ]
    },
    {
     "data": {
      "text/html": [
       "<div>\n",
       "<table border=\"1\" class=\"dataframe\">\n",
       "  <thead>\n",
       "    <tr style=\"text-align: right;\">\n",
       "      <th></th>\n",
       "      <th>word_freq_make</th>\n",
       "      <th>word_freq_address</th>\n",
       "      <th>word_freq_all</th>\n",
       "      <th>word_freq_3d</th>\n",
       "      <th>word_freq_our</th>\n",
       "      <th>word_freq_over</th>\n",
       "      <th>word_freq_remove</th>\n",
       "      <th>word_freq_internet</th>\n",
       "      <th>word_freq_order</th>\n",
       "      <th>word_freq_mail</th>\n",
       "      <th>...</th>\n",
       "      <th>char_freq_;</th>\n",
       "      <th>char_freq_(</th>\n",
       "      <th>char_freq_[</th>\n",
       "      <th>char_freq_!</th>\n",
       "      <th>char_freq_$</th>\n",
       "      <th>char_freq_#</th>\n",
       "      <th>capital_run_length_average</th>\n",
       "      <th>capital_run_length_longest</th>\n",
       "      <th>capital_run_length_total</th>\n",
       "      <th>spam</th>\n",
       "    </tr>\n",
       "  </thead>\n",
       "  <tbody>\n",
       "    <tr>\n",
       "      <th>0</th>\n",
       "      <td>-0.342434</td>\n",
       "      <td>0.330885</td>\n",
       "      <td>0.712859</td>\n",
       "      <td>-0.0469</td>\n",
       "      <td>0.011565</td>\n",
       "      <td>-0.350266</td>\n",
       "      <td>-0.291794</td>\n",
       "      <td>-0.262562</td>\n",
       "      <td>-0.323302</td>\n",
       "      <td>-0.371364</td>\n",
       "      <td>...</td>\n",
       "      <td>-0.158453</td>\n",
       "      <td>-0.514307</td>\n",
       "      <td>-0.155198</td>\n",
       "      <td>0.624007</td>\n",
       "      <td>-0.308355</td>\n",
       "      <td>-0.103048</td>\n",
       "      <td>-0.045247</td>\n",
       "      <td>0.045298</td>\n",
       "      <td>-0.008724</td>\n",
       "      <td>1</td>\n",
       "    </tr>\n",
       "    <tr>\n",
       "      <th>1</th>\n",
       "      <td>0.345359</td>\n",
       "      <td>0.051909</td>\n",
       "      <td>0.435130</td>\n",
       "      <td>-0.0469</td>\n",
       "      <td>-0.256117</td>\n",
       "      <td>0.672399</td>\n",
       "      <td>0.244743</td>\n",
       "      <td>-0.088010</td>\n",
       "      <td>-0.323302</td>\n",
       "      <td>1.086711</td>\n",
       "      <td>...</td>\n",
       "      <td>-0.158453</td>\n",
       "      <td>-0.026007</td>\n",
       "      <td>-0.155198</td>\n",
       "      <td>0.126203</td>\n",
       "      <td>0.423783</td>\n",
       "      <td>0.008763</td>\n",
       "      <td>-0.002443</td>\n",
       "      <td>0.250563</td>\n",
       "      <td>1.228324</td>\n",
       "      <td>1</td>\n",
       "    </tr>\n",
       "    <tr>\n",
       "      <th>2</th>\n",
       "      <td>-0.145921</td>\n",
       "      <td>-0.165072</td>\n",
       "      <td>0.851723</td>\n",
       "      <td>-0.0469</td>\n",
       "      <td>1.364846</td>\n",
       "      <td>0.343685</td>\n",
       "      <td>0.193644</td>\n",
       "      <td>0.036670</td>\n",
       "      <td>1.974017</td>\n",
       "      <td>0.016422</td>\n",
       "      <td>...</td>\n",
       "      <td>-0.117376</td>\n",
       "      <td>0.014684</td>\n",
       "      <td>-0.155198</td>\n",
       "      <td>0.008496</td>\n",
       "      <td>0.440053</td>\n",
       "      <td>-0.079754</td>\n",
       "      <td>0.145921</td>\n",
       "      <td>2.221106</td>\n",
       "      <td>3.258733</td>\n",
       "      <td>1</td>\n",
       "    </tr>\n",
       "    <tr>\n",
       "      <th>3</th>\n",
       "      <td>-0.342434</td>\n",
       "      <td>-0.165072</td>\n",
       "      <td>-0.556761</td>\n",
       "      <td>-0.0469</td>\n",
       "      <td>0.472573</td>\n",
       "      <td>-0.350266</td>\n",
       "      <td>0.500237</td>\n",
       "      <td>1.308402</td>\n",
       "      <td>0.789462</td>\n",
       "      <td>0.605857</td>\n",
       "      <td>...</td>\n",
       "      <td>-0.158453</td>\n",
       "      <td>-0.007511</td>\n",
       "      <td>-0.155198</td>\n",
       "      <td>-0.161934</td>\n",
       "      <td>-0.308355</td>\n",
       "      <td>-0.103048</td>\n",
       "      <td>-0.052150</td>\n",
       "      <td>-0.062466</td>\n",
       "      <td>-0.152222</td>\n",
       "      <td>1</td>\n",
       "    </tr>\n",
       "    <tr>\n",
       "      <th>4</th>\n",
       "      <td>-0.342434</td>\n",
       "      <td>-0.165072</td>\n",
       "      <td>-0.556761</td>\n",
       "      <td>-0.0469</td>\n",
       "      <td>0.472573</td>\n",
       "      <td>-0.350266</td>\n",
       "      <td>0.500237</td>\n",
       "      <td>1.308402</td>\n",
       "      <td>0.789462</td>\n",
       "      <td>0.605857</td>\n",
       "      <td>...</td>\n",
       "      <td>-0.158453</td>\n",
       "      <td>-0.014910</td>\n",
       "      <td>-0.155198</td>\n",
       "      <td>-0.164387</td>\n",
       "      <td>-0.308355</td>\n",
       "      <td>-0.103048</td>\n",
       "      <td>-0.052150</td>\n",
       "      <td>-0.062466</td>\n",
       "      <td>-0.152222</td>\n",
       "      <td>1</td>\n",
       "    </tr>\n",
       "  </tbody>\n",
       "</table>\n",
       "<p>5 rows × 58 columns</p>\n",
       "</div>"
      ],
      "text/plain": [
       "   word_freq_make  word_freq_address  word_freq_all  word_freq_3d  \\\n",
       "0       -0.342434           0.330885       0.712859       -0.0469   \n",
       "1        0.345359           0.051909       0.435130       -0.0469   \n",
       "2       -0.145921          -0.165072       0.851723       -0.0469   \n",
       "3       -0.342434          -0.165072      -0.556761       -0.0469   \n",
       "4       -0.342434          -0.165072      -0.556761       -0.0469   \n",
       "\n",
       "   word_freq_our  word_freq_over  word_freq_remove  word_freq_internet  \\\n",
       "0       0.011565       -0.350266         -0.291794           -0.262562   \n",
       "1      -0.256117        0.672399          0.244743           -0.088010   \n",
       "2       1.364846        0.343685          0.193644            0.036670   \n",
       "3       0.472573       -0.350266          0.500237            1.308402   \n",
       "4       0.472573       -0.350266          0.500237            1.308402   \n",
       "\n",
       "   word_freq_order  word_freq_mail  ...   char_freq_;  char_freq_(  \\\n",
       "0        -0.323302       -0.371364  ...     -0.158453    -0.514307   \n",
       "1        -0.323302        1.086711  ...     -0.158453    -0.026007   \n",
       "2         1.974017        0.016422  ...     -0.117376     0.014684   \n",
       "3         0.789462        0.605857  ...     -0.158453    -0.007511   \n",
       "4         0.789462        0.605857  ...     -0.158453    -0.014910   \n",
       "\n",
       "   char_freq_[  char_freq_!  char_freq_$  char_freq_#  \\\n",
       "0    -0.155198     0.624007    -0.308355    -0.103048   \n",
       "1    -0.155198     0.126203     0.423783     0.008763   \n",
       "2    -0.155198     0.008496     0.440053    -0.079754   \n",
       "3    -0.155198    -0.161934    -0.308355    -0.103048   \n",
       "4    -0.155198    -0.164387    -0.308355    -0.103048   \n",
       "\n",
       "   capital_run_length_average  capital_run_length_longest  \\\n",
       "0                   -0.045247                    0.045298   \n",
       "1                   -0.002443                    0.250563   \n",
       "2                    0.145921                    2.221106   \n",
       "3                   -0.052150                   -0.062466   \n",
       "4                   -0.052150                   -0.062466   \n",
       "\n",
       "   capital_run_length_total  spam  \n",
       "0                 -0.008724     1  \n",
       "1                  1.228324     1  \n",
       "2                  3.258733     1  \n",
       "3                 -0.152222     1  \n",
       "4                 -0.152222     1  \n",
       "\n",
       "[5 rows x 58 columns]"
      ]
     },
     "execution_count": 61,
     "metadata": {},
     "output_type": "execute_result"
    }
   ],
   "source": [
    "from sklearn.preprocessing import scale\n",
    "\n",
    "rescaling_data = spam_data.copy()\n",
    "\n",
    "for i in [x for x in rescaling_data.columns.values if x != 'spam']:\n",
    "    rescaling_data[i] = scale(rescaling_data[i])\n",
    "rescaling_data.head()"
   ]
  },
  {
   "cell_type": "code",
   "execution_count": 62,
   "metadata": {
    "collapsed": true
   },
   "outputs": [],
   "source": [
    "train_part = rescaling_data.iloc[train_index]\n",
    "test_part = rescaling_data.iloc[test_index]\n",
    "\n",
    "train_part, train_result = train_part.drop('spam', 1), list(train_part['spam'])\n",
    "test_part, test_result = test_part.drop('spam', 1), list(test_part['spam'])"
   ]
  },
  {
   "cell_type": "code",
   "execution_count": 64,
   "metadata": {
    "collapsed": false
   },
   "outputs": [],
   "source": [
    "from sklearn.neighbors import KNeighborsClassifier\n",
    "nbrs = KNeighborsClassifier(n_neighbors=10, metric='euclidean')\n",
    "\n",
    "X, y = train_part, train_result\n",
    "nbrs.fit(X, y)\n",
    "\n",
    "knnr = {}\n",
    "knnr_pred = nbrs.predict(test_part)\n",
    "knnr_pred_prob = [x[1] for x in nbrs.predict_proba(test_part)]"
   ]
  },
  {
   "cell_type": "code",
   "execution_count": 65,
   "metadata": {
    "collapsed": false
   },
   "outputs": [
    {
     "name": "stdout",
     "output_type": "stream",
     "text": [
      "Accuracy = 0.895716945996\n",
      "Precision = 0.908474576271\n",
      "Recall = 0.824615384615\n",
      "F1 = 0.864516129032\n"
     ]
    }
   ],
   "source": [
    "knnr_acc = accuracy_score(test_result, knnr_pred)\n",
    "knnr_prec = precision_score(test_result, knnr_pred)\n",
    "knnr_rec = recall_score(test_result, knnr_pred)\n",
    "knnr_f1 = f1_score(test_result, knnr_pred)\n",
    "\n",
    "print(\"Accuracy =\", knnr_acc)\n",
    "print(\"Precision =\", knnr_prec)\n",
    "print (\"Recall =\", knnr_rec)\n",
    "print (\"F1 =\", knnr_f1)"
   ]
  },
  {
   "cell_type": "markdown",
   "metadata": {},
   "source": [
    "Rescaling increased metrics for KNN"
   ]
  },
  {
   "cell_type": "markdown",
   "metadata": {},
   "source": [
    "      - Rescaling for Decision Tree"
   ]
  },
  {
   "cell_type": "code",
   "execution_count": 66,
   "metadata": {
    "collapsed": true
   },
   "outputs": [],
   "source": [
    "X, y = train_part, train_result\n",
    "\n",
    "classifier = DecisionTreeClassifier(max_depth=7, random_state=random_state).fit(X, y)\n",
    "\n",
    "dtsr = {}\n",
    "dtsr_pred = classifier.predict(test_part)\n",
    "dtsr_pred_prob = [x[1] for x in classifier.predict_proba(test_part)]"
   ]
  },
  {
   "cell_type": "code",
   "execution_count": 67,
   "metadata": {
    "collapsed": false,
    "scrolled": true
   },
   "outputs": [
    {
     "name": "stdout",
     "output_type": "stream",
     "text": [
      "Accuracy = 0.906890130354\n",
      "Precision = 0.891849529781\n",
      "Recall = 0.875384615385\n",
      "F1 = 0.883540372671\n"
     ]
    }
   ],
   "source": [
    "dtsr_acc = accuracy_score(test_result, dtsr_pred)\n",
    "dtsr_prec = precision_score(test_result, dtsr_pred)\n",
    "dtsr_rec = recall_score(test_result, dtsr_pred)\n",
    "dtsr_f1 = f1_score(test_result, dtsr_pred)\n",
    "\n",
    "print(\"Accuracy =\", dtsr_acc)\n",
    "print(\"Precision =\", dtsr_prec)\n",
    "print (\"Recall =\", dtsr_rec)\n",
    "print (\"F1 =\", dtsr_f1)"
   ]
  },
  {
   "cell_type": "markdown",
   "metadata": {},
   "source": [
    "Rescaling has no effect for decision tree because it doesn't change decision tree structure"
   ]
  },
  {
   "cell_type": "markdown",
   "metadata": {},
   "source": [
    "- Compare all models by all metrics."
   ]
  },
  {
   "cell_type": "code",
   "execution_count": 69,
   "metadata": {
    "collapsed": false
   },
   "outputs": [
    {
     "data": {
      "text/html": [
       "<div>\n",
       "<table border=\"1\" class=\"dataframe\">\n",
       "  <thead>\n",
       "    <tr style=\"text-align: right;\">\n",
       "      <th></th>\n",
       "      <th>Accuracy</th>\n",
       "      <th>Precision</th>\n",
       "      <th>Recall</th>\n",
       "      <th>F1</th>\n",
       "    </tr>\n",
       "  </thead>\n",
       "  <tbody>\n",
       "    <tr>\n",
       "      <th>Constant</th>\n",
       "      <td>0.403476</td>\n",
       "      <td>0.403476</td>\n",
       "      <td>1.000000</td>\n",
       "      <td>0.574967</td>\n",
       "    </tr>\n",
       "    <tr>\n",
       "      <th>Decision tree</th>\n",
       "      <td>0.906890</td>\n",
       "      <td>0.891850</td>\n",
       "      <td>0.875385</td>\n",
       "      <td>0.883540</td>\n",
       "    </tr>\n",
       "    <tr>\n",
       "      <th>KNN</th>\n",
       "      <td>0.777157</td>\n",
       "      <td>0.774011</td>\n",
       "      <td>0.632308</td>\n",
       "      <td>0.696020</td>\n",
       "    </tr>\n",
       "    <tr>\n",
       "      <th>KNN rescaled</th>\n",
       "      <td>0.895717</td>\n",
       "      <td>0.908475</td>\n",
       "      <td>0.824615</td>\n",
       "      <td>0.864516</td>\n",
       "    </tr>\n",
       "  </tbody>\n",
       "</table>\n",
       "</div>"
      ],
      "text/plain": [
       "               Accuracy  Precision    Recall        F1\n",
       "Constant       0.403476   0.403476  1.000000  0.574967\n",
       "Decision tree  0.906890   0.891850  0.875385  0.883540\n",
       "KNN            0.777157   0.774011  0.632308  0.696020\n",
       "KNN rescaled   0.895717   0.908475  0.824615  0.864516"
      ]
     },
     "execution_count": 69,
     "metadata": {},
     "output_type": "execute_result"
    }
   ],
   "source": [
    "stats = pd.DataFrame({})\n",
    "stats = stats.reindex(index=['Constant', 'Decision tree', 'KNN', 'KNN rescaled'])\n",
    "stats['Accuracy'] = [const1_acc, d_tree_sh_acc, knn_acc, knnr_acc]\n",
    "stats['Precision'] = [const1_prec, d_tree_sh_prec, knn_prec, knnr_prec]\n",
    "stats['Recall'] = [const1_rec, d_tree_sh_rec, knn_rec, knnr_rec]\n",
    "stats['F1'] = [const1_f1, d_tree_sh_f1, knn_f1, knnr_f1]\n",
    "stats"
   ]
  },
  {
   "cell_type": "markdown",
   "metadata": {},
   "source": [
    "# 3. Classification threshold selection"
   ]
  },
  {
   "cell_type": "markdown",
   "metadata": {},
   "source": [
    "- Which classifier has AUC-ROC near 0?"
   ]
  },
  {
   "cell_type": "markdown",
   "metadata": {},
   "source": [
    "Classifier which makes opposite predictions, i.e. instead of 1 it gives 0"
   ]
  },
  {
   "cell_type": "markdown",
   "metadata": {},
   "source": [
    "- Is it correct, that classifier from previous part \\#2 to identify class compare some estimation with threshold? What are those estimations? What thresholds were chosen?"
   ]
  },
  {
   "cell_type": "markdown",
   "metadata": {},
   "source": [
    "Yes, decision tree algoritm uses threshold. Threshold is used to split the data. Here threshold is a measure of how often an element we choose from the set would be incorrectly labeled if it was randomly labeled according to labels' distribution in the subset."
   ]
  },
  {
   "cell_type": "code",
   "execution_count": 71,
   "metadata": {
    "collapsed": false,
    "scrolled": false
   },
   "outputs": [
    {
     "name": "stdout",
     "output_type": "stream",
     "text": [
      "Thresholds = [-0.12735415 -0.15127225  0.15256467 -0.05915945  0.09312504 -0.19039997\n",
      " -0.31385505 -2.         -2.         -0.33489352 -2.         -2.\n",
      "  0.21074398  0.29040158 -2.         -2.         -2.         -0.04003926\n",
      " -0.1840044  -0.28499824 -2.         -2.          1.32113719 -2.         -2.\n",
      "  2.98962283 -0.16599476 -2.         -2.         -2.         -0.36004582\n",
      "  0.63721776  1.9139998   1.16532743 -2.         -2.          0.19155863\n",
      " -2.         -2.         -2.         -0.03135707 -0.20871741 -0.11924021\n",
      " -2.         -2.         -0.19417827 -2.         -2.          0.45991305\n",
      " -2.         -2.         -0.19118634 -0.18037373  0.85447061  2.53266048\n",
      "  0.22519708 -2.         -2.         -2.         -2.         -2.         -2.\n",
      " -0.09843683  0.57098198 -0.23950714 -0.14971602 -0.11080864 -2.         -2.\n",
      " -2.         -0.16552338  1.72602248  1.0652678  -2.         -2.         -2.\n",
      "  1.5798924  -2.         -2.         -2.         -0.10017347  3.35006475\n",
      "  0.76783442 -2.         -2.         -2.         -2.        ]\n"
     ]
    }
   ],
   "source": [
    "X, y = train_part, train_result\n",
    "\n",
    "classifier = DecisionTreeClassifier(max_depth=7, random_state=random_state).fit(X, y)\n",
    "\n",
    "print (\"Thresholds =\", classifier.tree_.threshold)"
   ]
  },
  {
   "cell_type": "code",
   "execution_count": 72,
   "metadata": {
    "collapsed": false
   },
   "outputs": [
    {
     "name": "stderr",
     "output_type": "stream",
     "text": [
      "\"dot\" ­Ґ пў«пҐвбп ў­гваҐ­­Ґ© Ё«Ё ў­Ґи­Ґ©\n",
      "Є®¬ ­¤®©, ЁбЇ®«­пҐ¬®© Їа®Ја ¬¬®© Ё«Ё Ї ЄҐв­л¬ д ©«®¬.\n"
     ]
    },
    {
     "data": {
      "image/png": "tree.png",
      "text/plain": [
       "<IPython.core.display.Image object>"
      ]
     },
     "execution_count": 72,
     "metadata": {},
     "output_type": "execute_result"
    }
   ],
   "source": [
    "from sklearn.tree import export_graphviz\n",
    "export_graphviz(classifier, out_file='tree.dot', feature_names=spam_data.columns.values)\n",
    "!dot -Tpng tree.dot -o tree.png\n",
    "from IPython.display import Image\n",
    "Image('tree.png')"
   ]
  },
  {
   "cell_type": "markdown",
   "metadata": {},
   "source": [
    "- For all models from previous task:"
   ]
  },
  {
   "cell_type": "markdown",
   "metadata": {},
   "source": [
    "        - Draw ROC and Precision/Recall curves on the same coordinate plane with different colors. Add legend: which curve corresponds to which classifier"
   ]
  },
  {
   "cell_type": "markdown",
   "metadata": {},
   "source": [
    "ROC plot"
   ]
  },
  {
   "cell_type": "code",
   "execution_count": 73,
   "metadata": {
    "collapsed": false,
    "scrolled": true
   },
   "outputs": [
    {
     "name": "stdout",
     "output_type": "stream",
     "text": [
      "1\n",
      "12\n",
      "[ 0.          0.00668896  0.08088979  0.10416667  0.19565217  0.25\n",
      "  0.33333333  0.64705882  0.65384615  0.88888889  0.90909091  0.92592593\n",
      "  0.97019374  0.97115385  0.98850575  1.        ]\n",
      "[ 2.          1.          0.98850575  0.97115385  0.97019374  0.92592593\n",
      "  0.90909091  0.88888889  0.65384615  0.64705882  0.33333333  0.25\n",
      "  0.19565217  0.10416667  0.08088979  0.00668896  0.        ]\n"
     ]
    }
   ],
   "source": [
    "from sklearn import metrics\n",
    "\n",
    "const1_fpr, const1_tpr, const1_thresholds = metrics.roc_curve(test_result, const1_pred_prob)\n",
    "d_tree_sh_fpr, d_tree_sh_tpr, d_tree_sh_thresholds = metrics.roc_curve(test_result, d_tree_sh_pred_prob)\n",
    "knn_fpr, knn_tpr, knn_thresholds = metrics.roc_curve(test_result, knn_pred_prob)\n",
    "knnr_fpr, knnr_tpr, knnr_thresholds = metrics.roc_curve(test_result, knnr_pred_prob)\n",
    "\n",
    "print (len(np.unique(const1_pred_prob)))\n",
    "print (len(knn_thresholds))\n",
    "\n",
    "print (np.unique(d_tree_sh_pred_prob))\n",
    "print (d_tree_sh_thresholds)"
   ]
  },
  {
   "cell_type": "code",
   "execution_count": 74,
   "metadata": {
    "collapsed": false,
    "scrolled": true
   },
   "outputs": [
    {
     "data": {
      "image/png": "[encoded data removed]",
      "text/plain": [
       "<matplotlib.figure.Figure at 0x136ff2e4b70>"
      ]
     },
     "metadata": {},
     "output_type": "display_data"
    }
   ],
   "source": [
    "from sklearn.metrics import roc_auc_score\n",
    "plt.figure()\n",
    "lw = 1.5\n",
    "plt.plot(const1_fpr, const1_tpr, color='darkorange',\n",
    "         lw=1.5, label='Constant model (area = %0.2f)' % roc_auc_score(np.array(test_result), np.array(const1_pred_prob)))\n",
    "plt.plot(d_tree_sh_fpr, d_tree_sh_tpr, color='red',\n",
    "         lw=1.5, label='Decision tree (area = %0.2f)' % roc_auc_score(np.array(test_result), np.array(d_tree_sh_pred_prob)))\n",
    "plt.plot(knn_fpr, knn_tpr, color='blue',\n",
    "         lw=1.5, label='KNN (area = %0.2f)' % roc_auc_score(np.array(test_result), np.array(knn_pred_prob)))\n",
    "plt.plot(knnr_fpr, knnr_tpr, color='green',\n",
    "         lw=1.5, label='Rescaled KNN (area = %0.2f)' % roc_auc_score(np.array(test_result), np.array(knnr_pred_prob)))\n",
    "plt.plot([0, 1], [0, 1], color='white', lw=lw, linestyle='--')\n",
    "plt.xlim([0.0, 1.0])\n",
    "plt.ylim([0.0, 1.0])\n",
    "plt.xlabel('False Positive Rate')\n",
    "plt.ylabel('True Positive Rate')\n",
    "plt.title('ROC curves')\n",
    "plt.legend(loc=\"lower right\")\n",
    "plt.show()"
   ]
  },
  {
   "cell_type": "markdown",
   "metadata": {},
   "source": [
    "#### Precision/Recall plot"
   ]
  },
  {
   "cell_type": "code",
   "execution_count": 76,
   "metadata": {
    "collapsed": true
   },
   "outputs": [],
   "source": [
    "const1_precr, const1_recr, const1_thresholds = metrics.precision_recall_curve(test_result, const1_pred_prob)\n",
    "d_tree_sh_precr, d_tree_sh_recr, d_tree_sh_thresholds = metrics.precision_recall_curve(test_result, d_tree_sh_pred_prob)\n",
    "knn_precr, knn_recr, knn_thresholds = metrics.precision_recall_curve(test_result, knn_pred_prob)\n",
    "knnr_precr, knnr_recr, knnr_thresholds = metrics.precision_recall_curve(test_result, knnr_pred_prob)"
   ]
  },
  {
   "cell_type": "code",
   "execution_count": 77,
   "metadata": {
    "collapsed": false,
    "scrolled": true
   },
   "outputs": [
    {
     "data": {
      "image/png": "[encoded data removed]",
      "text/plain": [
       "<matplotlib.figure.Figure at 0x13680971278>"
      ]
     },
     "metadata": {},
     "output_type": "display_data"
    }
   ],
   "source": [
    "plt.figure()\n",
    "lw = 1.5\n",
    "plt.plot(const1_recr, const1_precr, color='darkorange',\n",
    "         lw=1.5, label='Constant model')\n",
    "plt.plot(d_tree_sh_recr, d_tree_sh_precr, color='red',\n",
    "         lw=1.5, label='Decision tree')\n",
    "plt.plot(knn_recr, knn_precr, color='blue',\n",
    "         lw=1.5, label='KNN')\n",
    "plt.plot(knnr_recr, knnr_precr, color='green',\n",
    "         lw=1.5, label='Rescaled KNN')\n",
    "plt.xlim([0.0, 1.0])\n",
    "plt.ylim([0.4, 1.0])\n",
    "plt.xlabel('Recall Rate')\n",
    "plt.ylabel('Precision Rate')\n",
    "plt.title('Precision/Recall curves')\n",
    "plt.legend(loc=\"lower left\")\n",
    "plt.show()"
   ]
  },
  {
   "cell_type": "markdown",
   "metadata": {},
   "source": [
    "Compare AUC-ROC"
   ]
  },
  {
   "cell_type": "code",
   "execution_count": 78,
   "metadata": {
    "collapsed": false
   },
   "outputs": [
    {
     "data": {
      "text/plain": [
       "<matplotlib.axes._subplots.AxesSubplot at 0x13680984550>"
      ]
     },
     "execution_count": 78,
     "metadata": {},
     "output_type": "execute_result"
    },
    {
     "data": {
      "image/png": "[encoded data removed]",
      "text/plain": [
       "<matplotlib.figure.Figure at 0x136809903c8>"
      ]
     },
     "metadata": {},
     "output_type": "display_data"
    }
   ],
   "source": [
    "const1_auc = roc_auc_score(np.array(test_result), np.array(const1_pred))\n",
    "d_tree_sh_auc = roc_auc_score(np.array(test_result), np.array(d_tree_sh_pred))\n",
    "knn_auc = roc_auc_score(np.array(test_result), np.array(knn_pred))\n",
    "knnr_auc = roc_auc_score(np.array(test_result), np.array(knnr_pred))\n",
    "\n",
    "auc = pd.DataFrame({})\n",
    "auc['Name'] = ['Constant', 'Decision tree', 'KNN', 'KNN rescaled']\n",
    "auc['AUC-ROC'] = [const1_auc, d_tree_sh_auc, knn_auc, knnr_auc]\n",
    "sns.barplot(x='Name', y='AUC-ROC', data=auc)"
   ]
  },
  {
   "cell_type": "markdown",
   "metadata": {},
   "source": [
    "- What maximal Recall of spam classification can models achive if you have strict constraint on accuracy: it should not be below 90%?"
   ]
  },
  {
   "cell_type": "code",
   "execution_count": 87,
   "metadata": {
    "collapsed": false
   },
   "outputs": [
    {
     "data": {
      "image/png": "[encoded data removed]",
      "text/plain": [
       "<matplotlib.figure.Figure at 0x13680e3b240>"
      ]
     },
     "metadata": {},
     "output_type": "display_data"
    }
   ],
   "source": [
    "plt.figure()\n",
    "lw = 1.5\n",
    "plt.plot(const1_recr, const1_precr, color='darkorange',\n",
    "         lw=1.5, label='Constant model')\n",
    "plt.plot(d_tree_sh_recr, d_tree_sh_precr, color='red',\n",
    "         lw=1.5, label='Decision tree')\n",
    "plt.plot(knn_recr, knn_precr, color='blue',\n",
    "         lw=1.5, label='KNN')\n",
    "plt.plot(knnr_recr, knnr_precr, color='green',\n",
    "         lw=1.5, label='Rescaled KNN')\n",
    "plt.plot([0, 1], [0.9, 0.9], 'k--', lw=2)\n",
    "plt.xlim([0.0, 1.0])\n",
    "plt.ylim([0.4, 1.0])\n",
    "plt.xlabel('Recall Rate')\n",
    "plt.ylabel('Precision Rate')\n",
    "plt.title('Precision/Recall curves')\n",
    "plt.legend(loc=\"lower left\")\n",
    "plt.show()"
   ]
  },
  {
   "cell_type": "markdown",
   "metadata": {},
   "source": [
    "We can see decision tree has maxmimum Recall"
   ]
  },
  {
   "cell_type": "markdown",
   "metadata": {},
   "source": [
    "# 4. Cross-validation and parameter selection"
   ]
  },
  {
   "cell_type": "markdown",
   "metadata": {},
   "source": [
    "- Choose one metric for optimization by grid search\n",
    "- Find optimal set of parameters for tree with grid search. Parameters for grid: split criterion, max depth, number of features for node, min number of objects in the leaf (of only some of offered parameters)"
   ]
  },
  {
   "cell_type": "code",
   "execution_count": 90,
   "metadata": {
    "collapsed": false,
    "scrolled": true
   },
   "outputs": [
    {
     "name": "stdout",
     "output_type": "stream",
     "text": [
      "Optimal parameters: {'criterion': 'entropy', 'max_depth': 10, 'max_features': 'auto', 'min_samples_leaf': 10}\n",
      "Score: 0.947718975863\n"
     ]
    }
   ],
   "source": [
    "from sklearn.model_selection import GridSearchCV\n",
    "\n",
    "parameters = {\n",
    "    'criterion':('gini', 'entropy'), \n",
    "    'max_depth':[3, 5, 10, 15, 20], \n",
    "    'max_features': (\"auto\", \"sqrt\"), \n",
    "    'min_samples_leaf': [1, 2, 3, 4, 5, 10]\n",
    "}\n",
    "classifier = GridSearchCV(DecisionTreeClassifier(), parameters, scoring='roc_auc', n_jobs=8, cv=5)\n",
    "classifier.fit(train_part, train_result)\n",
    "print (\"Optimal parameters:\", classifier.best_params_)\n",
    "print (\"Score:\", classifier.best_score_)"
   ]
  },
  {
   "cell_type": "markdown",
   "metadata": {},
   "source": [
    "- Find optimal set of parameters for KNN using grid search. Parameters for grid: K, metric, weight scheme"
   ]
  },
  {
   "cell_type": "code",
   "execution_count": 93,
   "metadata": {
    "collapsed": false
   },
   "outputs": [
    {
     "name": "stdout",
     "output_type": "stream",
     "text": [
      "Optimal parameters: {'metric': 'euclidean', 'n_neighbors': 15, 'weights': 'distance'}\n",
      "Score: 0.969458622921\n"
     ]
    }
   ],
   "source": [
    "parameters = {\n",
    "    'n_neighbors':[3, 5, 10, 15, 20], \n",
    "    'metric': ('euclidean', 'chebyshev', 'minkowski'),\n",
    "    'weights': ('uniform', 'distance')\n",
    "}\n",
    "classifier = GridSearchCV(KNeighborsClassifier(), parameters, scoring='roc_auc', n_jobs=12, cv=5)\n",
    "classifier.fit(train_part, train_result)\n",
    "print (\"Optimal parameters:\", classifier.best_params_)\n",
    "print (\"Score:\", classifier.best_score_)"
   ]
  }
 ],
 "metadata": {
  "kernelspec": {
   "display_name": "Python 3",
   "language": "python",
   "name": "python3"
  },
  "language_info": {
   "codemirror_mode": {
    "name": "ipython",
    "version": 3
   },
   "file_extension": ".py",
   "mimetype": "text/x-python",
   "name": "python",
   "nbconvert_exporter": "python",
   "pygments_lexer": "ipython3",
   "version": "3.6.0"
  }
 },
 "nbformat": 4,
 "nbformat_minor": 0
}
